{
 "cells": [
  {
   "cell_type": "code",
   "execution_count": 1,
   "metadata": {},
   "outputs": [],
   "source": [
    "import numpy as np\n",
    "import pandas as pd\n",
    "import matplotlib.pyplot as plt\n",
    "import seaborn as sns\n",
    "import scipy as sp"
   ]
  },
  {
   "cell_type": "code",
   "execution_count": 2,
   "metadata": {},
   "outputs": [
    {
     "name": "stdout",
     "output_type": "stream",
     "text": [
      "1870455\n"
     ]
    },
    {
     "data": {
      "text/html": [
       "<div>\n",
       "<style scoped>\n",
       "    .dataframe tbody tr th:only-of-type {\n",
       "        vertical-align: middle;\n",
       "    }\n",
       "\n",
       "    .dataframe tbody tr th {\n",
       "        vertical-align: top;\n",
       "    }\n",
       "\n",
       "    .dataframe thead th {\n",
       "        text-align: right;\n",
       "    }\n",
       "</style>\n",
       "<table border=\"1\" class=\"dataframe\">\n",
       "  <thead>\n",
       "    <tr style=\"text-align: right;\">\n",
       "      <th></th>\n",
       "      <th>Unnamed: 0</th>\n",
       "      <th>session_id</th>\n",
       "      <th>track_id</th>\n",
       "      <th>skip_1</th>\n",
       "      <th>skip_2</th>\n",
       "      <th>skip_3</th>\n",
       "      <th>not_skipped</th>\n",
       "      <th>context_switch</th>\n",
       "      <th>hist_user_behavior_reason_start</th>\n",
       "      <th>hist_user_behavior_reason_end</th>\n",
       "      <th>hist_user_behavior_is_shuffle</th>\n",
       "      <th>skip_score</th>\n",
       "      <th>liking</th>\n",
       "      <th>rating</th>\n",
       "    </tr>\n",
       "  </thead>\n",
       "  <tbody>\n",
       "    <tr>\n",
       "      <td>0</td>\n",
       "      <td>0</td>\n",
       "      <td>0_00001e52-55c0-470c-8d32-85c691c2019a</td>\n",
       "      <td>t_a0b2a533-caad-4a72-af14-e647bd7e9c1f</td>\n",
       "      <td>0</td>\n",
       "      <td>-0.5</td>\n",
       "      <td>0.2</td>\n",
       "      <td>0</td>\n",
       "      <td>0</td>\n",
       "      <td>0.2</td>\n",
       "      <td>0.4</td>\n",
       "      <td>0</td>\n",
       "      <td>-0.3</td>\n",
       "      <td>0.6</td>\n",
       "      <td>0.3</td>\n",
       "    </tr>\n",
       "    <tr>\n",
       "      <td>1</td>\n",
       "      <td>1</td>\n",
       "      <td>0_00a20441-f168-41c7-9bf6-93ddeb022f00</td>\n",
       "      <td>t_a0b2a533-caad-4a72-af14-e647bd7e9c1f</td>\n",
       "      <td>0</td>\n",
       "      <td>0.0</td>\n",
       "      <td>0.2</td>\n",
       "      <td>0</td>\n",
       "      <td>0</td>\n",
       "      <td>0.2</td>\n",
       "      <td>0.4</td>\n",
       "      <td>0</td>\n",
       "      <td>0.2</td>\n",
       "      <td>0.6</td>\n",
       "      <td>0.8</td>\n",
       "    </tr>\n",
       "    <tr>\n",
       "      <td>2</td>\n",
       "      <td>2</td>\n",
       "      <td>0_00e25cfa-fb17-4c17-a126-04dc55c66259</td>\n",
       "      <td>t_a0b2a533-caad-4a72-af14-e647bd7e9c1f</td>\n",
       "      <td>0</td>\n",
       "      <td>0.0</td>\n",
       "      <td>0.2</td>\n",
       "      <td>0</td>\n",
       "      <td>0</td>\n",
       "      <td>0.2</td>\n",
       "      <td>0.4</td>\n",
       "      <td>0</td>\n",
       "      <td>0.2</td>\n",
       "      <td>0.6</td>\n",
       "      <td>0.8</td>\n",
       "    </tr>\n",
       "    <tr>\n",
       "      <td>3</td>\n",
       "      <td>3</td>\n",
       "      <td>0_05c168a6-d905-427e-8a6a-4b12311fcb6d</td>\n",
       "      <td>t_a0b2a533-caad-4a72-af14-e647bd7e9c1f</td>\n",
       "      <td>0</td>\n",
       "      <td>0.0</td>\n",
       "      <td>0.0</td>\n",
       "      <td>1</td>\n",
       "      <td>0</td>\n",
       "      <td>0.3</td>\n",
       "      <td>1.0</td>\n",
       "      <td>0</td>\n",
       "      <td>1.0</td>\n",
       "      <td>1.3</td>\n",
       "      <td>2.3</td>\n",
       "    </tr>\n",
       "    <tr>\n",
       "      <td>4</td>\n",
       "      <td>4</td>\n",
       "      <td>0_05d6ac38-9e98-44de-b097-048f1c0f95db</td>\n",
       "      <td>t_a0b2a533-caad-4a72-af14-e647bd7e9c1f</td>\n",
       "      <td>0</td>\n",
       "      <td>0.0</td>\n",
       "      <td>0.0</td>\n",
       "      <td>1</td>\n",
       "      <td>0</td>\n",
       "      <td>1.0</td>\n",
       "      <td>1.0</td>\n",
       "      <td>0</td>\n",
       "      <td>1.0</td>\n",
       "      <td>2.0</td>\n",
       "      <td>3.0</td>\n",
       "    </tr>\n",
       "  </tbody>\n",
       "</table>\n",
       "</div>"
      ],
      "text/plain": [
       "   Unnamed: 0                              session_id  \\\n",
       "0           0  0_00001e52-55c0-470c-8d32-85c691c2019a   \n",
       "1           1  0_00a20441-f168-41c7-9bf6-93ddeb022f00   \n",
       "2           2  0_00e25cfa-fb17-4c17-a126-04dc55c66259   \n",
       "3           3  0_05c168a6-d905-427e-8a6a-4b12311fcb6d   \n",
       "4           4  0_05d6ac38-9e98-44de-b097-048f1c0f95db   \n",
       "\n",
       "                                 track_id  skip_1  skip_2  skip_3  \\\n",
       "0  t_a0b2a533-caad-4a72-af14-e647bd7e9c1f       0    -0.5     0.2   \n",
       "1  t_a0b2a533-caad-4a72-af14-e647bd7e9c1f       0     0.0     0.2   \n",
       "2  t_a0b2a533-caad-4a72-af14-e647bd7e9c1f       0     0.0     0.2   \n",
       "3  t_a0b2a533-caad-4a72-af14-e647bd7e9c1f       0     0.0     0.0   \n",
       "4  t_a0b2a533-caad-4a72-af14-e647bd7e9c1f       0     0.0     0.0   \n",
       "\n",
       "   not_skipped  context_switch  hist_user_behavior_reason_start  \\\n",
       "0            0               0                              0.2   \n",
       "1            0               0                              0.2   \n",
       "2            0               0                              0.2   \n",
       "3            1               0                              0.3   \n",
       "4            1               0                              1.0   \n",
       "\n",
       "   hist_user_behavior_reason_end  hist_user_behavior_is_shuffle  skip_score  \\\n",
       "0                            0.4                              0        -0.3   \n",
       "1                            0.4                              0         0.2   \n",
       "2                            0.4                              0         0.2   \n",
       "3                            1.0                              0         1.0   \n",
       "4                            1.0                              0         1.0   \n",
       "\n",
       "   liking  rating  \n",
       "0     0.6     0.3  \n",
       "1     0.6     0.8  \n",
       "2     0.6     0.8  \n",
       "3     1.3     2.3  \n",
       "4     2.0     3.0  "
      ]
     },
     "execution_count": 2,
     "metadata": {},
     "output_type": "execute_result"
    }
   ],
   "source": [
    "df = pd.read_csv(r'merged.csv')\n",
    "print(len(df))\n",
    "df.head()"
   ]
  },
  {
   "cell_type": "code",
   "execution_count": 3,
   "metadata": {},
   "outputs": [
    {
     "data": {
      "text/plain": [
       "count    1.870440e+06\n",
       "mean     1.257080e+00\n",
       "std      1.475866e+00\n",
       "min     -1.300000e+00\n",
       "25%      3.000000e-01\n",
       "50%      1.000000e+00\n",
       "75%      2.600000e+00\n",
       "max      4.000000e+00\n",
       "Name: rating, dtype: float64"
      ]
     },
     "execution_count": 3,
     "metadata": {},
     "output_type": "execute_result"
    }
   ],
   "source": [
    "df['rating'].describe()"
   ]
  },
  {
   "cell_type": "code",
   "execution_count": 4,
   "metadata": {},
   "outputs": [],
   "source": [
    "df['rating_round'] = df['rating'].round()"
   ]
  },
  {
   "cell_type": "code",
   "execution_count": 5,
   "metadata": {},
   "outputs": [
    {
     "data": {
      "text/html": [
       "<div>\n",
       "<style scoped>\n",
       "    .dataframe tbody tr th:only-of-type {\n",
       "        vertical-align: middle;\n",
       "    }\n",
       "\n",
       "    .dataframe tbody tr th {\n",
       "        vertical-align: top;\n",
       "    }\n",
       "\n",
       "    .dataframe thead th {\n",
       "        text-align: right;\n",
       "    }\n",
       "</style>\n",
       "<table border=\"1\" class=\"dataframe\">\n",
       "  <thead>\n",
       "    <tr style=\"text-align: right;\">\n",
       "      <th></th>\n",
       "      <th>Unnamed: 0</th>\n",
       "      <th>session_id</th>\n",
       "      <th>track_id</th>\n",
       "      <th>skip_1</th>\n",
       "      <th>skip_2</th>\n",
       "      <th>skip_3</th>\n",
       "      <th>not_skipped</th>\n",
       "      <th>context_switch</th>\n",
       "      <th>hist_user_behavior_reason_start</th>\n",
       "      <th>hist_user_behavior_reason_end</th>\n",
       "      <th>hist_user_behavior_is_shuffle</th>\n",
       "      <th>skip_score</th>\n",
       "      <th>liking</th>\n",
       "      <th>rating</th>\n",
       "      <th>rating_round</th>\n",
       "    </tr>\n",
       "  </thead>\n",
       "  <tbody>\n",
       "    <tr>\n",
       "      <td>0</td>\n",
       "      <td>0</td>\n",
       "      <td>0_00001e52-55c0-470c-8d32-85c691c2019a</td>\n",
       "      <td>t_a0b2a533-caad-4a72-af14-e647bd7e9c1f</td>\n",
       "      <td>0</td>\n",
       "      <td>-0.5</td>\n",
       "      <td>0.2</td>\n",
       "      <td>0</td>\n",
       "      <td>0</td>\n",
       "      <td>0.2</td>\n",
       "      <td>0.4</td>\n",
       "      <td>0</td>\n",
       "      <td>-0.3</td>\n",
       "      <td>0.6</td>\n",
       "      <td>0.3</td>\n",
       "      <td>0.0</td>\n",
       "    </tr>\n",
       "    <tr>\n",
       "      <td>1</td>\n",
       "      <td>1</td>\n",
       "      <td>0_00a20441-f168-41c7-9bf6-93ddeb022f00</td>\n",
       "      <td>t_a0b2a533-caad-4a72-af14-e647bd7e9c1f</td>\n",
       "      <td>0</td>\n",
       "      <td>0.0</td>\n",
       "      <td>0.2</td>\n",
       "      <td>0</td>\n",
       "      <td>0</td>\n",
       "      <td>0.2</td>\n",
       "      <td>0.4</td>\n",
       "      <td>0</td>\n",
       "      <td>0.2</td>\n",
       "      <td>0.6</td>\n",
       "      <td>0.8</td>\n",
       "      <td>1.0</td>\n",
       "    </tr>\n",
       "    <tr>\n",
       "      <td>2</td>\n",
       "      <td>2</td>\n",
       "      <td>0_00e25cfa-fb17-4c17-a126-04dc55c66259</td>\n",
       "      <td>t_a0b2a533-caad-4a72-af14-e647bd7e9c1f</td>\n",
       "      <td>0</td>\n",
       "      <td>0.0</td>\n",
       "      <td>0.2</td>\n",
       "      <td>0</td>\n",
       "      <td>0</td>\n",
       "      <td>0.2</td>\n",
       "      <td>0.4</td>\n",
       "      <td>0</td>\n",
       "      <td>0.2</td>\n",
       "      <td>0.6</td>\n",
       "      <td>0.8</td>\n",
       "      <td>1.0</td>\n",
       "    </tr>\n",
       "    <tr>\n",
       "      <td>3</td>\n",
       "      <td>3</td>\n",
       "      <td>0_05c168a6-d905-427e-8a6a-4b12311fcb6d</td>\n",
       "      <td>t_a0b2a533-caad-4a72-af14-e647bd7e9c1f</td>\n",
       "      <td>0</td>\n",
       "      <td>0.0</td>\n",
       "      <td>0.0</td>\n",
       "      <td>1</td>\n",
       "      <td>0</td>\n",
       "      <td>0.3</td>\n",
       "      <td>1.0</td>\n",
       "      <td>0</td>\n",
       "      <td>1.0</td>\n",
       "      <td>1.3</td>\n",
       "      <td>2.3</td>\n",
       "      <td>2.0</td>\n",
       "    </tr>\n",
       "    <tr>\n",
       "      <td>4</td>\n",
       "      <td>4</td>\n",
       "      <td>0_05d6ac38-9e98-44de-b097-048f1c0f95db</td>\n",
       "      <td>t_a0b2a533-caad-4a72-af14-e647bd7e9c1f</td>\n",
       "      <td>0</td>\n",
       "      <td>0.0</td>\n",
       "      <td>0.0</td>\n",
       "      <td>1</td>\n",
       "      <td>0</td>\n",
       "      <td>1.0</td>\n",
       "      <td>1.0</td>\n",
       "      <td>0</td>\n",
       "      <td>1.0</td>\n",
       "      <td>2.0</td>\n",
       "      <td>3.0</td>\n",
       "      <td>3.0</td>\n",
       "    </tr>\n",
       "  </tbody>\n",
       "</table>\n",
       "</div>"
      ],
      "text/plain": [
       "   Unnamed: 0                              session_id  \\\n",
       "0           0  0_00001e52-55c0-470c-8d32-85c691c2019a   \n",
       "1           1  0_00a20441-f168-41c7-9bf6-93ddeb022f00   \n",
       "2           2  0_00e25cfa-fb17-4c17-a126-04dc55c66259   \n",
       "3           3  0_05c168a6-d905-427e-8a6a-4b12311fcb6d   \n",
       "4           4  0_05d6ac38-9e98-44de-b097-048f1c0f95db   \n",
       "\n",
       "                                 track_id  skip_1  skip_2  skip_3  \\\n",
       "0  t_a0b2a533-caad-4a72-af14-e647bd7e9c1f       0    -0.5     0.2   \n",
       "1  t_a0b2a533-caad-4a72-af14-e647bd7e9c1f       0     0.0     0.2   \n",
       "2  t_a0b2a533-caad-4a72-af14-e647bd7e9c1f       0     0.0     0.2   \n",
       "3  t_a0b2a533-caad-4a72-af14-e647bd7e9c1f       0     0.0     0.0   \n",
       "4  t_a0b2a533-caad-4a72-af14-e647bd7e9c1f       0     0.0     0.0   \n",
       "\n",
       "   not_skipped  context_switch  hist_user_behavior_reason_start  \\\n",
       "0            0               0                              0.2   \n",
       "1            0               0                              0.2   \n",
       "2            0               0                              0.2   \n",
       "3            1               0                              0.3   \n",
       "4            1               0                              1.0   \n",
       "\n",
       "   hist_user_behavior_reason_end  hist_user_behavior_is_shuffle  skip_score  \\\n",
       "0                            0.4                              0        -0.3   \n",
       "1                            0.4                              0         0.2   \n",
       "2                            0.4                              0         0.2   \n",
       "3                            1.0                              0         1.0   \n",
       "4                            1.0                              0         1.0   \n",
       "\n",
       "   liking  rating  rating_round  \n",
       "0     0.6     0.3           0.0  \n",
       "1     0.6     0.8           1.0  \n",
       "2     0.6     0.8           1.0  \n",
       "3     1.3     2.3           2.0  \n",
       "4     2.0     3.0           3.0  "
      ]
     },
     "execution_count": 5,
     "metadata": {},
     "output_type": "execute_result"
    }
   ],
   "source": [
    "df.head()\n",
    "\n"
   ]
  },
  {
   "cell_type": "code",
   "execution_count": 12,
   "metadata": {},
   "outputs": [
    {
     "data": {
      "text/plain": [
       "Index(['Unnamed: 0', 'session_id', 'track_id', 'skip_1', 'skip_2', 'skip_3',\n",
       "       'not_skipped', 'context_switch', 'hist_user_behavior_reason_start',\n",
       "       'hist_user_behavior_reason_end', 'hist_user_behavior_is_shuffle',\n",
       "       'skip_score', 'liking', 'rating', 'rating_round'],\n",
       "      dtype='object')"
      ]
     },
     "execution_count": 12,
     "metadata": {},
     "output_type": "execute_result"
    }
   ],
   "source": [
    " # Import Decision Tree Classifier\n",
    "from sklearn.model_selection import train_test_split # Import train_test_split function\n",
    "from sklearn import metrics #Import scikit-learn metrics module for accuracy calculation\n",
    "df = df.dropna()\n",
    "len(df)\n",
    "df.columns"
   ]
  },
  {
   "cell_type": "code",
   "execution_count": 13,
   "metadata": {},
   "outputs": [
    {
     "name": "stdout",
     "output_type": "stream",
     "text": [
      "[[ 0.  -0.5  0.2  0.2  0.4  0. ]\n",
      " [ 0.   0.   0.2  0.2  0.4  0. ]\n",
      " [ 0.   0.   0.2  0.2  0.4  0. ]\n",
      " ...\n",
      " [-1.  -0.5  0.2  0.3  0.3  1. ]\n",
      " [ 0.  -0.5  0.2  0.3  0.3  1. ]\n",
      " [ 0.   0.   0.   1.   1.   0. ]]\n"
     ]
    }
   ],
   "source": [
    "X = df[['skip_1','skip_2','skip_3','hist_user_behavior_reason_start','hist_user_behavior_reason_end','hist_user_behavior_is_shuffle']]\n",
    "X = X.values\n",
    "print(X)\n"
   ]
  },
  {
   "cell_type": "code",
   "execution_count": 14,
   "metadata": {},
   "outputs": [
    {
     "name": "stdout",
     "output_type": "stream",
     "text": [
      "[[0.]\n",
      " [1.]\n",
      " [1.]\n",
      " ...\n",
      " [0.]\n",
      " [1.]\n",
      " [3.]]\n"
     ]
    }
   ],
   "source": [
    "y = df[['rating_round']]\n",
    "y = y.values\n",
    "print(y)"
   ]
  },
  {
   "cell_type": "code",
   "execution_count": 15,
   "metadata": {},
   "outputs": [],
   "source": [
    "X_train, X_test, y_train, y_test = train_test_split(X, y, test_size=0.15, random_state=1)"
   ]
  },
  {
   "cell_type": "code",
   "execution_count": null,
   "metadata": {},
   "outputs": [
    {
     "name": "stdout",
     "output_type": "stream",
     "text": [
      "[-1.  1. -0. ... -1.  2. -0.]\n",
      "Accuracy: 0.9711369160910446\n"
     ]
    },
    {
     "data": {
      "image/png": "[encoded data removed]",
      "text/plain": [
       "<Figure size 432x288 with 2 Axes>"
      ]
     },
     "metadata": {
      "needs_background": "light"
     },
     "output_type": "display_data"
    },
    {
     "name": "stdout",
     "output_type": "stream",
     "text": [
      "Accuracy: 0.9711369160910446\n",
      "Precision: [1.         0.9866352  0.9489165  0.94160091 0.96657979 0.97332112]\n",
      "Recall: [0.99982182 0.99282737 0.92732212 0.94408425 0.96556245 0.99426255]\n",
      "F1 Score: [0.9999109  0.9897216  0.93799504 0.94284094 0.96607085 0.98368039]\n"
     ]
    },
    {
     "data": {
      "image/png": "[encoded data removed]",
      "text/plain": [
       "<Figure size 504x360 with 1 Axes>"
      ]
     },
     "metadata": {
      "needs_background": "light"
     },
     "output_type": "display_data"
    },
    {
     "name": "stderr",
     "output_type": "stream",
     "text": [
      "C:\\Users\\User\\Anaconda3\\lib\\site-packages\\sklearn\\ensemble\\forest.py:245: FutureWarning: The default value of n_estimators will change from 10 in version 0.20 to 100 in 0.22.\n",
      "  \"10 in version 0.20 to 100 in 0.22.\", FutureWarning)\n",
      "C:\\Users\\User\\Anaconda3\\lib\\site-packages\\ipykernel_launcher.py:43: DataConversionWarning: A column-vector y was passed when a 1d array was expected. Please change the shape of y to (n_samples,), for example using ravel().\n"
     ]
    },
    {
     "name": "stdout",
     "output_type": "stream",
     "text": [
      "[-1.  1. -0. ... -1.  2. -0.]\n",
      "Accuracy: 0.9791956259846168\n"
     ]
    },
    {
     "data": {
      "image/png": "[encoded data removed]",
      "text/plain": [
       "<Figure size 432x288 with 2 Axes>"
      ]
     },
     "metadata": {
      "needs_background": "light"
     },
     "output_type": "display_data"
    },
    {
     "name": "stdout",
     "output_type": "stream",
     "text": [
      "Accuracy: 0.9791956259846168\n",
      "Precision: [1.         0.99936674 0.94611586 0.95412492 0.9817878  0.98026316]\n",
      "Recall: [1.         0.99292175 0.97192117 0.9557326  0.96556245 0.99426255]\n",
      "F1 Score: [1.         0.99613382 0.95884492 0.95492808 0.97360753 0.98721323]\n"
     ]
    },
    {
     "data": {
      "image/png": "[encoded data removed]",
      "text/plain": [
       "<Figure size 504x360 with 1 Axes>"
      ]
     },
     "metadata": {
      "needs_background": "light"
     },
     "output_type": "display_data"
    },
    {
     "name": "stderr",
     "output_type": "stream",
     "text": [
      "C:\\Users\\User\\Anaconda3\\lib\\site-packages\\sklearn\\utils\\validation.py:724: DataConversionWarning: A column-vector y was passed when a 1d array was expected. Please change the shape of y to (n_samples, ), for example using ravel().\n",
      "  y = column_or_1d(y, warn=True)\n",
      "C:\\Users\\User\\Anaconda3\\lib\\site-packages\\sklearn\\svm\\base.py:193: FutureWarning: The default value of gamma will change from 'auto' to 'scale' in version 0.22 to account better for unscaled features. Set gamma explicitly to 'auto' or 'scale' to avoid this warning.\n",
      "  \"avoid this warning.\", FutureWarning)\n"
     ]
    }
   ],
   "source": [
    "### Decision Tree Classifier \n",
    "from sklearn.tree import DecisionTreeClassifier\n",
    "clf = DecisionTreeClassifier(max_depth=None, max_leaf_nodes=20)\n",
    "clf.fit(X_train, y_train)\n",
    "y_pred = clf.predict(X_test)\n",
    "print(y_pred)\n",
    "print(\"Accuracy:\",metrics.accuracy_score(y_test, y_pred))\n",
    "from sklearn.metrics import confusion_matrix\n",
    "cnf_matrix = metrics.confusion_matrix(y_test, y_pred)\n",
    "cnf_matrix\n",
    "class_names=[0,1] # name  of classes\n",
    "fig, ax = plt.subplots()\n",
    "tick_marks = np.arange(len(class_names))\n",
    "plt.xticks(tick_marks, class_names)\n",
    "plt.yticks(tick_marks, class_names)\n",
    "# create heatmap\n",
    "sns.heatmap(pd.DataFrame(cnf_matrix), annot=True, cmap=\"YlGnBu\" ,fmt='g')\n",
    "ax.xaxis.set_label_position(\"top\")\n",
    "plt.tight_layout()\n",
    "plt.title('Confusion matrix', y=1.1)\n",
    "plt.ylabel('Actual label')\n",
    "plt.xlabel('Predicted label')\n",
    "plt.show()\n",
    "dtree_accuracy = metrics.accuracy_score(y_test, y_pred)\n",
    "dtree_precision_score = metrics.precision_score(y_test, y_pred, average=None)\n",
    "dtree_recall_score = metrics.recall_score(y_test, y_pred, average=None)\n",
    "dtree_f1_score = metrics.f1_score(y_test, y_pred, average=None)\n",
    "print(\"Accuracy:\",dtree_accuracy)\n",
    "print(\"Precision:\",dtree_precision_score)\n",
    "print(\"Recall:\",dtree_recall_score)\n",
    "print(\"F1 Score:\", dtree_f1_score)\n",
    "plt.figure(figsize=(7,5))\n",
    "plt.hist(dtree_precision_score)\n",
    "plt.hist(dtree_recall_score)\n",
    "plt.hist(dtree_f1_score)\n",
    "plt.show()\n",
    "\n",
    "\n",
    "### RandomForestClassifier ####\n",
    "\n",
    "from sklearn.ensemble import RandomForestClassifier\n",
    "clf2 = RandomForestClassifier(max_depth=None, max_leaf_nodes=20)\n",
    "clf2.fit(X_train, y_train)\n",
    "y_pred = clf2.predict(X_test)\n",
    "print(y_pred)\n",
    "print(\"Accuracy:\",metrics.accuracy_score(y_test, y_pred))\n",
    "from sklearn.metrics import confusion_matrix\n",
    "cnf_matrix = metrics.confusion_matrix(y_test, y_pred)\n",
    "cnf_matrix\n",
    "class_names=[0,1] # name  of classes\n",
    "fig, ax = plt.subplots()\n",
    "tick_marks = np.arange(len(class_names))\n",
    "plt.xticks(tick_marks, class_names)\n",
    "plt.yticks(tick_marks, class_names)\n",
    "# create heatmap\n",
    "sns.heatmap(pd.DataFrame(cnf_matrix), annot=True, cmap=\"YlGnBu\" ,fmt='g')\n",
    "ax.xaxis.set_label_position(\"top\")\n",
    "plt.tight_layout()\n",
    "plt.title('Confusion matrix', y=1.1)\n",
    "plt.ylabel('Actual label')\n",
    "plt.xlabel('Predicted label')\n",
    "plt.show()\n",
    "\n",
    "rftree_accuracy = metrics.accuracy_score(y_test, y_pred)\n",
    "rftree_precision_score = metrics.precision_score(y_test, y_pred, average=None)\n",
    "rftree_recall_score = metrics.recall_score(y_test, y_pred, average=None)\n",
    "rftree_f1_score = metrics.f1_score(y_test, y_pred, average=None)\n",
    "print(\"Accuracy:\",rftree_accuracy)\n",
    "print(\"Precision:\",rftree_precision_score)\n",
    "print(\"Recall:\",rftree_recall_score)\n",
    "print(\"F1 Score:\", rftree_f1_score)\n",
    "plt.figure(figsize=(7,5))\n",
    "plt.hist(rftree_precision_score)\n",
    "plt.hist(rftree_recall_score)\n",
    "plt.hist(rftree_f1_score)\n",
    "plt.show()\n",
    "\n",
    "\n",
    "#### SVM Classifier\n",
    "\n",
    "from sklearn import svm\n",
    "model = svm.SVC(kernel='rbf', C=1E6)\n",
    "model.fit(X_train, y_train)\n",
    "y_pred = model.predict(X_test)\n",
    "print(y_pred)\n",
    "from sklearn import metrics\n",
    "cnf_matrix = metrics.confusion_matrix(y_test, y_pred)\n",
    "cnf_matrix\n",
    "class_names=[0,1] # name  of classes\n",
    "fig, ax = plt.subplots()\n",
    "tick_marks = np.arange(len(class_names))\n",
    "plt.xticks(tick_marks, class_names)\n",
    "plt.yticks(tick_marks, class_names)\n",
    "# create heatmap\n",
    "sns.heatmap(pd.DataFrame(cnf_matrix), annot=True, cmap=\"YlGnBu\" ,fmt='g')\n",
    "ax.xaxis.set_label_position(\"top\")\n",
    "plt.tight_layout()\n",
    "plt.title('Confusion matrix', y=1.1)\n",
    "plt.ylabel('Actual label')\n",
    "plt.xlabel('Predicted label')\n",
    "plt.show()\n",
    "\n",
    "svm_accuracy = metrics.accuracy_score(y_test, y_pred)\n",
    "svm_precision_score = metrics.precision_score(y_test, y_pred, average=None)\n",
    "svm_recall_score = metrics.recall_score(y_test, y_pred, average=None)\n",
    "svm_f1_score = metrics.f1_score(y_test, y_pred, average=None)\n",
    "print(\"Accuracy:\",svm_accuracy)\n",
    "print(\"Precision:\",svm_precision_score)\n",
    "print(\"Recall:\",svm_recall_score)\n",
    "print(\"F1 Score:\", svm_f1_score)\n",
    "plt.figure(figsize=(7,5))\n",
    "plt.hist(svm_precision_score)\n",
    "plt.hist(svm_recall_score)\n",
    "plt.hist(svm_f1_score)\n",
    "plt.show()\n",
    " "
   ]
  },
  {
   "cell_type": "code",
   "execution_count": null,
   "metadata": {},
   "outputs": [],
   "source": [
    "model_accuracy = [dtree_accuracy,rftree_accuracy,svm_accuracy]\n",
    "model_accuracy = pd.DataFrame(model_accuracy)\n",
    "sns.heatmap(model_accuracy)\n",
    "plt.show()\n",
    "\n",
    "model_accuracy"
   ]
  },
  {
   "cell_type": "code",
   "execution_count": null,
   "metadata": {},
   "outputs": [],
   "source": [
    "model_precision = [dtree_precision_score,rftree_precision_score,svm_precision_score]\n",
    "model_precision = pd.DataFrame(model_precision)\n",
    "sns.heatmap(model_precision)\n",
    "plt.show()\n",
    "\n",
    "model_precision"
   ]
  },
  {
   "cell_type": "code",
   "execution_count": null,
   "metadata": {},
   "outputs": [],
   "source": [
    "model_recall = [dtree_recall_score,rftree_recall_score,svm_recall_score]\n",
    "model_recall = pd.DataFrame(model_recall)\n",
    "sns.heatmap(model_recall)\n",
    "plt.show()\n",
    "\n",
    "model_recall"
   ]
  },
  {
   "cell_type": "code",
   "execution_count": null,
   "metadata": {},
   "outputs": [],
   "source": [
    "from sklearn import svm\n",
    "model = svm.SVC(kernel='rbf', C=1E6)\n",
    "model.fit(X_train, y_train)\n",
    "y_pred = model.predict(X_test)"
   ]
  },
  {
   "cell_type": "code",
   "execution_count": null,
   "metadata": {},
   "outputs": [],
   "source": [
    "y_pred = pd.DataFrame(y_pred)"
   ]
  },
  {
   "cell_type": "code",
   "execution_count": null,
   "metadata": {},
   "outputs": [],
   "source": [
    "df['rating_round'].unique()"
   ]
  },
  {
   "cell_type": "code",
   "execution_count": null,
   "metadata": {},
   "outputs": [],
   "source": [
    "#### Creating a Full y_pred list with based in SVM Classifier ####\n",
    "from sklearn import svm\n",
    "model = svm.SVC(kernel='rbf', C=1E6)\n",
    "model.fit(X,y)\n",
    "svm_pred = model.predict(X)\n",
    "svm_pred = pd.DataFrame(svm_pred)\n",
    "\n"
   ]
  },
  {
   "cell_type": "code",
   "execution_count": null,
   "metadata": {},
   "outputs": [],
   "source": [
    "df['svm_pred'] = svm_pred"
   ]
  },
  {
   "cell_type": "code",
   "execution_count": null,
   "metadata": {},
   "outputs": [],
   "source": [
    "df.head()"
   ]
  },
  {
   "cell_type": "code",
   "execution_count": null,
   "metadata": {},
   "outputs": [],
   "source": [
    "df['svm_pred'].unique()"
   ]
  },
  {
   "cell_type": "code",
   "execution_count": null,
   "metadata": {},
   "outputs": [],
   "source": [
    "### clustering of user ID based on the predicted ratings\n",
    "\n",
    "rating_1_uid = df.query('svm_pred==-1')['session_id']\n",
    "rating_1_uid = pd.DataFrame(rating_1_uid)\n",
    "\n",
    "rating_2_uid = df.query('svm_pred==0')['session_id']\n",
    "rating_2_uid = pd.DataFrame(rating_2_uid)\n",
    "\n",
    "rating_3_uid = df.query('svm_pred==1')['session_id']\n",
    "rating_3_uid = pd.DataFrame(rating_3_uid)\n",
    "\n",
    "rating_4_uid = df.query('svm_pred==2')['session_id']\n",
    "rating_4_uid = pd.DataFrame(rating_4_uid)\n",
    "\n",
    "rating_5_uid = df.query('svm_pred==3')['session_id']\n",
    "rating_5_uid = pd.DataFrame(rating_5_uid)\n",
    "\n",
    "rating_6_uid = df.query('svm_pred==4')['session_id']\n",
    "rating_6_uid = pd.DataFrame(rating_6_uid)"
   ]
  },
  {
   "cell_type": "code",
   "execution_count": null,
   "metadata": {},
   "outputs": [],
   "source": [
    "rating_1_uid.head()"
   ]
  },
  {
   "cell_type": "code",
   "execution_count": null,
   "metadata": {},
   "outputs": [],
   "source": [
    "rating_2_uid.head()"
   ]
  },
  {
   "cell_type": "code",
   "execution_count": null,
   "metadata": {},
   "outputs": [],
   "source": [
    "dat = pd.read_csv(r'dat.csv')"
   ]
  },
  {
   "cell_type": "code",
   "execution_count": null,
   "metadata": {},
   "outputs": [],
   "source": [
    "dat.columns"
   ]
  },
  {
   "cell_type": "code",
   "execution_count": null,
   "metadata": {},
   "outputs": [],
   "source": [
    "dat.head()"
   ]
  },
  {
   "cell_type": "code",
   "execution_count": null,
   "metadata": {},
   "outputs": [],
   "source": [
    "dat['hist_user_behavior_is_shuffle'].unique()"
   ]
  },
  {
   "cell_type": "code",
   "execution_count": null,
   "metadata": {},
   "outputs": [],
   "source": [
    "dat['svm_rating'] = svm_pred"
   ]
  },
  {
   "cell_type": "code",
   "execution_count": null,
   "metadata": {},
   "outputs": [],
   "source": [
    "dat.head()"
   ]
  },
  {
   "cell_type": "code",
   "execution_count": null,
   "metadata": {},
   "outputs": [],
   "source": [
    "dat_arr = dat.values"
   ]
  },
  {
   "cell_type": "code",
   "execution_count": null,
   "metadata": {},
   "outputs": [],
   "source": [
    "z = np.random.rand(15)\n",
    "z=z*z\n",
    "plt.figure(figsize=(10,8)) \n",
    "\n",
    "# Change color with c and alpha. I map the color to the X axis value.\n",
    "plt.scatter(dat['release_year'], dat['Unnamed: 0'], s=dat['hour_of_day']*50, c = dat['svm_rating'] , alpha=0.4, linewidth=2)\n",
    "\n",
    "plt.colorbar()\n",
    "plt.show()"
   ]
  },
  {
   "cell_type": "code",
   "execution_count": null,
   "metadata": {},
   "outputs": [],
   "source": [
    "dat['hour_of_day'].describe()\n",
    "plt.hist(dat['acousticness'])\n",
    "plt.show()"
   ]
  },
  {
   "cell_type": "code",
   "execution_count": null,
   "metadata": {},
   "outputs": [],
   "source": [
    "\n",
    "dat['session_length'].describe()"
   ]
  },
  {
   "cell_type": "code",
   "execution_count": null,
   "metadata": {},
   "outputs": [],
   "source": [
    "z = np.random.rand(15)\n",
    "z=z*z\n",
    "plt.figure(figsize=(10, 8)) \n",
    "\n",
    "# Change color with c and alpha. I map the color to the X axis value.\n",
    "plt.scatter(dat['acousticness'], dat['Unnamed: 0'], s=dat['hour_of_day']*10, c = dat['svm_rating'] , alpha=1, linewidth=2)\n",
    "\n",
    "plt.colorbar()\n",
    "plt.show()"
   ]
  },
  {
   "cell_type": "code",
   "execution_count": null,
   "metadata": {},
   "outputs": [],
   "source": [
    "rating_1_uid.index"
   ]
  },
  {
   "cell_type": "code",
   "execution_count": null,
   "metadata": {},
   "outputs": [],
   "source": [
    "dat.columns"
   ]
  },
  {
   "cell_type": "code",
   "execution_count": null,
   "metadata": {},
   "outputs": [],
   "source": [
    "n = rating_1_uid.index"
   ]
  },
  {
   "cell_type": "code",
   "execution_count": null,
   "metadata": {},
   "outputs": [],
   "source": [
    "n = [n]"
   ]
  },
  {
   "cell_type": "code",
   "execution_count": null,
   "metadata": {},
   "outputs": [],
   "source": [
    "type(n)"
   ]
  },
  {
   "cell_type": "code",
   "execution_count": null,
   "metadata": {},
   "outputs": [],
   "source": [
    "n"
   ]
  },
  {
   "cell_type": "code",
   "execution_count": null,
   "metadata": {},
   "outputs": [],
   "source": [
    "n2 = pd.DataFrame(n)"
   ]
  },
  {
   "cell_type": "code",
   "execution_count": null,
   "metadata": {},
   "outputs": [],
   "source": [
    "n2"
   ]
  },
  {
   "cell_type": "code",
   "execution_count": null,
   "metadata": {},
   "outputs": [],
   "source": [
    "n2 = n2.transpose()"
   ]
  },
  {
   "cell_type": "code",
   "execution_count": null,
   "metadata": {},
   "outputs": [],
   "source": [
    "n2.head()"
   ]
  },
  {
   "cell_type": "code",
   "execution_count": null,
   "metadata": {},
   "outputs": [],
   "source": [
    "n2 = list(n2)"
   ]
  },
  {
   "cell_type": "code",
   "execution_count": null,
   "metadata": {},
   "outputs": [],
   "source": []
  },
  {
   "cell_type": "code",
   "execution_count": null,
   "metadata": {},
   "outputs": [],
   "source": [
    "plt.figure(figsize=(10, 8)) \n",
    "\n",
    "\n",
    "\n",
    "plt.scatter(dat['beat_strength'], dat['bounciness'],cmap=plt.get_cmap(\"jet\"),\n",
    "            c = dat['svm_rating'],s = dat['hour_of_day'])\n",
    "plt.colorbar()\n",
    "plt.show()"
   ]
  },
  {
   "cell_type": "code",
   "execution_count": null,
   "metadata": {},
   "outputs": [],
   "source": [
    "\n",
    "g = sns.FacetGrid(dat, col=\"svm_rating\",  hue=\"hour_of_day\")\n",
    "g = (g.map(plt.scatter, \"beat_strength\", \"bounciness\", edgecolor=\"w\").add_legend())\n",
    "g.fig.set_size_inches(10,5)\n",
    "plt.show()"
   ]
  },
  {
   "cell_type": "code",
   "execution_count": null,
   "metadata": {},
   "outputs": [],
   "source": [
    "\n",
    "g = sns.FacetGrid(dat, col=\"svm_rating\",  hue=\"hist_user_behavior_is_shuffle\")\n",
    "g = (g.map(plt.scatter, \"beat_strength\", \"bounciness\", edgecolor=\"w\").add_legend())\n",
    "plt.colorbar()\n",
    "g.fig.set_size_inches(10,5)\n",
    "plt.show()"
   ]
  },
  {
   "cell_type": "code",
   "execution_count": null,
   "metadata": {},
   "outputs": [],
   "source": [
    "\n",
    "g = sns.FacetGrid(dat, col=\"hist_user_behavior_is_shuffle\",  hue=\"svm_rating\")\n",
    "g = (g.map(plt.scatter, \"beat_strength\", \"bounciness\", edgecolor=\"w\").add_legend())\n",
    "g.fig.set_size_inches(12,7)\n",
    "plt.colorbar()\n",
    "\n",
    "plt.show()\n",
    "\n",
    "\n",
    "g1 = sns.FacetGrid(dat, col=\"hist_user_behavior_reason_start\",  hue=\"svm_rating\")\n",
    "g1 = (g1.map(plt.scatter, \"beat_strength\", \"bounciness\", edgecolor=\"w\").add_legend())\n",
    "g1.fig.set_size_inches(12,5)\n",
    "plt.colorbar()\n",
    "plt.show()\n",
    "\n",
    " \n",
    "g2 = sns.FacetGrid(dat, col=\"hist_user_behavior_reason_end\",  hue=\"svm_rating\")\n",
    "g2 = (g2.map(plt.scatter, \"beat_strength\", \"bounciness\", edgecolor=\"w\").add_legend())\n",
    "g2.fig.set_size_inches(12,5)\n",
    "plt.colorbar()\n",
    "plt.show()"
   ]
  },
  {
   "cell_type": "code",
   "execution_count": null,
   "metadata": {},
   "outputs": [],
   "source": []
  },
  {
   "cell_type": "code",
   "execution_count": null,
   "metadata": {},
   "outputs": [],
   "source": [
    "dat.columns"
   ]
  },
  {
   "cell_type": "code",
   "execution_count": null,
   "metadata": {
    "scrolled": true
   },
   "outputs": [],
   "source": [
    "dat.head()"
   ]
  },
  {
   "cell_type": "code",
   "execution_count": null,
   "metadata": {},
   "outputs": [],
   "source": [
    "dat['session_length'].describe()"
   ]
  },
  {
   "cell_type": "code",
   "execution_count": null,
   "metadata": {},
   "outputs": [],
   "source": [
    "############# Clustering ############"
   ]
  },
  {
   "cell_type": "code",
   "execution_count": null,
   "metadata": {},
   "outputs": [],
   "source": [
    "g2 = sns.FacetGrid(dat, col=\"svm_rating\",  hue=\"hist_user_behavior_is_shuffle\")"
   ]
  },
  {
   "cell_type": "code",
   "execution_count": null,
   "metadata": {},
   "outputs": [],
   "source": [
    "X = dat['Unnamed: 0'].values\n",
    "y = dat['svm_rating'].values"
   ]
  },
  {
   "cell_type": "code",
   "execution_count": null,
   "metadata": {},
   "outputs": [],
   "source": [
    "##### make Blobs #######"
   ]
  },
  {
   "cell_type": "code",
   "execution_count": null,
   "metadata": {},
   "outputs": [],
   "source": [
    "# Import LabelEncoder\n",
    "from sklearn import preprocessing\n",
    "#creating labelEncoder\n",
    "le = preprocessing.LabelEncoder()\n",
    "G = le.fit_transform(dat['Unnamed: 0'])"
   ]
  },
  {
   "cell_type": "code",
   "execution_count": null,
   "metadata": {},
   "outputs": [],
   "source": [
    "G"
   ]
  },
  {
   "cell_type": "code",
   "execution_count": null,
   "metadata": {},
   "outputs": [],
   "source": [
    "len(dat)"
   ]
  },
  {
   "cell_type": "code",
   "execution_count": null,
   "metadata": {},
   "outputs": [],
   "source": [
    "from sklearn.datasets import make_blobs\n",
    "m,n = make_blobs(G[500],centers=3,random_state=0, cluster_std=0.65)"
   ]
  },
  {
   "cell_type": "code",
   "execution_count": null,
   "metadata": {},
   "outputs": [],
   "source": [
    "m"
   ]
  },
  {
   "cell_type": "code",
   "execution_count": null,
   "metadata": {},
   "outputs": [],
   "source": [
    "n"
   ]
  },
  {
   "cell_type": "code",
   "execution_count": null,
   "metadata": {},
   "outputs": [],
   "source": [
    "plt.figure(figsize=(10, 8)) \n",
    "plt.scatter(m[:, 0], m[:, 1], c=n, s=30, cmap='autumn')\n",
    "plt.show()"
   ]
  },
  {
   "cell_type": "code",
   "execution_count": null,
   "metadata": {},
   "outputs": [],
   "source": []
  },
  {
   "cell_type": "code",
   "execution_count": null,
   "metadata": {},
   "outputs": [],
   "source": [
    "from sklearn.cluster import KMeans\n",
    "Kmean = KMeans(n_clusters=3)\n",
    "Kmean.fit(m)"
   ]
  },
  {
   "cell_type": "code",
   "execution_count": null,
   "metadata": {},
   "outputs": [],
   "source": [
    "Kmean.cluster_centers_"
   ]
  },
  {
   "cell_type": "code",
   "execution_count": null,
   "metadata": {},
   "outputs": [],
   "source": [
    "plt.figure(figsize=(10, 8)) \n",
    "plt.scatter(m[:, 0], m[:, 1], c=n, s=30, cmap='autumn')\n",
    "plt.scatter(-1.52711596,  2.93873372,c = 'g', marker = 's')\n",
    "plt.scatter(1.95873501,  0.80271418,c = 'black', marker = 's')\n",
    "plt.scatter(0.90206723,  4.36135952,c = 'b', marker = 's')\n",
    "plt.show()"
   ]
  },
  {
   "cell_type": "code",
   "execution_count": null,
   "metadata": {},
   "outputs": [],
   "source": [
    "gth = df[['Unnamed: 0','rating_round']]"
   ]
  },
  {
   "cell_type": "code",
   "execution_count": null,
   "metadata": {},
   "outputs": [],
   "source": [
    "\n",
    "g = sns.FacetGrid(dat, col=\"hist_user_behavior_is_shuffle\",  hue=\"svm_rating\")\n",
    "g = (g.map(plt.scatter, \"beat_strength\", \"bounciness\", edgecolor=\"w\").add_legend())\n",
    "g.fig.set_size_inches(12,8)\n",
    "plt.colorbar()\n",
    "plt.show()"
   ]
  },
  {
   "cell_type": "code",
   "execution_count": null,
   "metadata": {},
   "outputs": [],
   "source": [
    "data3 = dat[['beat_strength','bounciness']]"
   ]
  },
  {
   "cell_type": "code",
   "execution_count": null,
   "metadata": {},
   "outputs": [],
   "source": [
    "data3_arr = data3.values"
   ]
  },
  {
   "cell_type": "code",
   "execution_count": null,
   "metadata": {},
   "outputs": [],
   "source": [
    "data3_arr"
   ]
  },
  {
   "cell_type": "code",
   "execution_count": null,
   "metadata": {},
   "outputs": [],
   "source": [
    "G2 = le.fit_transform(data3['beat_strength'])"
   ]
  },
  {
   "cell_type": "code",
   "execution_count": null,
   "metadata": {},
   "outputs": [],
   "source": [
    "m,n = make_blobs(G2[500],centers=3,random_state=0, cluster_std=0.65)"
   ]
  },
  {
   "cell_type": "code",
   "execution_count": null,
   "metadata": {},
   "outputs": [],
   "source": [
    "m"
   ]
  },
  {
   "cell_type": "code",
   "execution_count": null,
   "metadata": {},
   "outputs": [],
   "source": [
    "n"
   ]
  },
  {
   "cell_type": "code",
   "execution_count": null,
   "metadata": {},
   "outputs": [],
   "source": [
    "plt.figure(figsize=(10, 8)) \n",
    "plt.scatter(m[:, 0], m[:, 1], c=n, s=30, cmap='autumn')\n",
    "\n",
    "plt.show()"
   ]
  },
  {
   "cell_type": "code",
   "execution_count": null,
   "metadata": {},
   "outputs": [],
   "source": [
    "from sklearn.cluster import KMeans\n",
    "Kmean = KMeans(n_clusters=3)\n",
    "Kmean.fit(m)\n"
   ]
  },
  {
   "cell_type": "code",
   "execution_count": null,
   "metadata": {},
   "outputs": [],
   "source": [
    "Kmean.cluster_centers_"
   ]
  },
  {
   "cell_type": "code",
   "execution_count": null,
   "metadata": {},
   "outputs": [],
   "source": [
    "plt.figure(figsize=(10, 8)) \n",
    "plt.scatter(m[:, 0], m[:, 1], c=n, s=30, cmap='autumn')\n",
    "plt.scatter(2.05314174,  0.89176704,c = 'g', marker = 's')\n",
    "plt.scatter(1.95873501,  0.80271418,c = 'black', marker = 's')\n",
    "plt.scatter(-1.53745756,  2.91305784,c = 'b', marker = 's')\n",
    "plt.show()"
   ]
  },
  {
   "cell_type": "code",
   "execution_count": null,
   "metadata": {},
   "outputs": [],
   "source": [
    "len(data3)"
   ]
  },
  {
   "cell_type": "code",
   "execution_count": null,
   "metadata": {},
   "outputs": [],
   "source": [
    "G3 = le.fit_transform(data3['bounciness'])\n",
    "m,n = make_blobs(G3[167879],centers=3,random_state=0, cluster_std=0.45)\n",
    "plt.figure(figsize=(20, 18)) \n",
    "plt.scatter(m[:, 0], m[:, 1], c=n, s=30, cmap='autumn')\n",
    "plt.legend()\n",
    "from sklearn.cluster import KMeans\n",
    "Kmean = KMeans(n_clusters=3)\n",
    "Kmean.fit(m)\n",
    "Kmean.cluster_centers_\n",
    "plt.scatter( 0.9738295 ,  4.30430402,c = 'grey', marker = 's')\n",
    "plt.scatter(2.05084236,  0.90036442,c = 'black', marker = 's')\n",
    "plt.scatter(-1.52585357,  2.91613035,c = 'blue', marker = 's')\n",
    "plt.show()"
   ]
  },
  {
   "cell_type": "code",
   "execution_count": null,
   "metadata": {},
   "outputs": [],
   "source": [
    "import matplotlib.pyplot as plt\n",
    "from scipy.stats import kde\n",
    "\n",
    "fig, axes = plt.subplots(ncols=2, nrows=1, figsize=(21, 5))\n",
    " \n",
    "# Everything sarts with a Scatterplot\n",
    "plt.figure(figsize=(20, 15))\n",
    "axes[0].set_title('Scatterplot')\n",
    "axes[0].plot(m[:, 0], m[:, 1])\n",
    "\n",
    "# As you can see there is a lot of overplottin here!\n",
    " \n",
    "# Thus we can cut the plotting window in several hexbins\n",
    "nbins = 20\n",
    "plt.figure(figsize=(20, 15))\n",
    "axes[1].set_title('Hexbin')\n",
    "axes[1].hexbin(m[:, 0], m[:, 1], gridsize=nbins, cmap=plt.cm.BuGn_r)\n",
    "plt.show()"
   ]
  },
  {
   "cell_type": "code",
   "execution_count": null,
   "metadata": {},
   "outputs": [],
   "source": [
    "dat.head()"
   ]
  },
  {
   "cell_type": "code",
   "execution_count": null,
   "metadata": {},
   "outputs": [],
   "source": [
    "G4 = le.fit_transform(dat['svm_rating'])\n",
    "m,n = make_blobs(G4[167879],centers=3,random_state=0, cluster_std=0.55)\n",
    "plt.figure(figsize=(20, 18)) \n",
    "plt.scatter(m[:, 0], m[:, 1], c=n, s=30, cmap='viridis')\n",
    "\n",
    "\n",
    "plt.show()\n",
    "from sklearn.cluster import KMeans\n",
    "Kmean = KMeans(n_clusters=3)\n",
    "Kmean.fit(m)\n",
    "Kmean.cluster_centers_\n"
   ]
  },
  {
   "cell_type": "code",
   "execution_count": null,
   "metadata": {},
   "outputs": [],
   "source": []
  },
  {
   "cell_type": "code",
   "execution_count": null,
   "metadata": {},
   "outputs": [],
   "source": [
    "G4 = le.fit_transform(dat['session_position'])\n",
    "m,n = make_blobs(G4[167879],centers=3,random_state=0, cluster_std=0.55)\n",
    "plt.figure(figsize=(10, 8)) \n",
    "plt.scatter(m[:, 0], m[:, 1], c=n, s=30, cmap='autumn')\n",
    "plt.show()\n",
    "from sklearn.cluster import KMeans\n",
    "Kmean = KMeans(n_clusters=3)\n",
    "Kmean.fit(m)\n",
    "Kmean.cluster_centers_"
   ]
  },
  {
   "cell_type": "code",
   "execution_count": null,
   "metadata": {},
   "outputs": [],
   "source": [
    "dat.head(2)"
   ]
  },
  {
   "cell_type": "code",
   "execution_count": null,
   "metadata": {},
   "outputs": [],
   "source": [
    "dat.columns"
   ]
  },
  {
   "cell_type": "code",
   "execution_count": null,
   "metadata": {},
   "outputs": [],
   "source": []
  },
  {
   "cell_type": "code",
   "execution_count": null,
   "metadata": {},
   "outputs": [],
   "source": [
    "G4 = le.fit_transform(dat['session_position'])\n",
    "m,n = make_blobs(G4[167879],centers=3,random_state=0, cluster_std=0.55)\n",
    "plt.figure(figsize=(10, 8)) \n",
    "plt.scatter(m[:, 0], m[:, 1], c=n, s=30, cmap='autumn')\n",
    "plt.show()\n",
    "from sklearn.cluster import KMeans\n",
    "Kmean = KMeans(n_clusters=3)\n",
    "Kmean.fit(m)\n",
    "print(Kmean.cluster_centers_)\n",
    "\n",
    "G5 = le.fit_transform(dat['session_length'])\n",
    "m,n = make_blobs(G5[167879],centers=3,random_state=0, cluster_std=0.55)\n",
    "plt.figure(figsize=(10, 8)) \n",
    "plt.scatter(m[:, 0], m[:, 1], c=n, s=30, cmap='autumn')\n",
    "plt.show()\n",
    "from sklearn.cluster import KMeans\n",
    "Kmean = KMeans(n_clusters=3)\n",
    "Kmean.fit(m)\n",
    "print(Kmean.cluster_centers_)"
   ]
  },
  {
   "cell_type": "code",
   "execution_count": null,
   "metadata": {},
   "outputs": [],
   "source": [
    "dat.columns"
   ]
  },
  {
   "cell_type": "code",
   "execution_count": null,
   "metadata": {},
   "outputs": [],
   "source": [
    "G6 = le.fit_transform(dat['session_id'])\n",
    "m2,n2 = make_blobs(G6[167879],centers=3,random_state=0, cluster_std=0.55)\n",
    "plt.figure(figsize=(10, 8)) \n",
    "plt.scatter(m2[:, 0], m2[:, 1], c=n2, s=30, cmap='autumn')\n",
    "plt.show()\n",
    "from sklearn.cluster import KMeans\n",
    "Kmean = KMeans(n_clusters=3)\n",
    "Kmean.fit(m2)\n",
    "print(Kmean.cluster_centers_)\n",
    "\n",
    "G7 = le.fit_transform(dat['hist_user_behavior_reason_start'])\n",
    "m1,n1 = make_blobs(G7[167879],centers=3,random_state=0, cluster_std=0.55)\n",
    "plt.figure(figsize=(10, 8)) \n",
    "plt.scatter(m1[:, 0], m1[:, 1], c=n1, s=30, cmap='autumn')\n",
    "plt.show()\n",
    "from sklearn.cluster import KMeans\n",
    "Kmean2 = KMeans(n_clusters=3)\n",
    "Kmean2.fit(m1)\n",
    "print(Kmean2.cluster_centers_)\n",
    "\n",
    "G8 = le.fit_transform(dat['hist_user_behavior_reason_end'])\n",
    "m3,n3 = make_blobs(G8[167879],centers=3,random_state=0, cluster_std=0.55)\n",
    "plt.figure(figsize=(10, 8)) \n",
    "plt.scatter(m3[:, 0], m3[:, 1], c=n3, s=30, cmap='autumn')\n",
    "plt.show()\n",
    "from sklearn.cluster import KMeans\n",
    "Kmean3 = KMeans(n_clusters=3)\n",
    "Kmean3.fit(m3)\n",
    "print(Kmean3.cluster_centers_)\n",
    "\n",
    "G9 = le.fit_transform(dat['session_length'])\n",
    "m9,n9 = make_blobs(G9[167879],centers=3,random_state=0, cluster_std=0.55)\n",
    "plt.figure(figsize=(10, 8)) \n",
    "plt.scatter(m9[:, 0], m9[:, 1], c=n9, s=30, cmap='autumn')\n",
    "plt.show()\n",
    "from sklearn.cluster import KMeans\n",
    "Kmean9 = KMeans(n_clusters=3)\n",
    "Kmean9.fit(m)\n",
    "print(Kmean9.cluster_centers_)\n",
    "\n"
   ]
  },
  {
   "cell_type": "code",
   "execution_count": null,
   "metadata": {},
   "outputs": [],
   "source": [
    "sid_cluster = Kmean.cluster_centers_\n",
    "start = Kmean2.cluster_centers_\n",
    "end = Kmean3.cluster_centers_\n",
    "session_length = Kmean9.cluster_centers_\n",
    "#shuffle = Kmean4.cluster_centers_"
   ]
  },
  {
   "cell_type": "code",
   "execution_count": null,
   "metadata": {},
   "outputs": [],
   "source": [
    "sid_cluster = pd.DataFrame(sid_cluster)\n",
    "start = pd.DataFrame(start)\n",
    "end = pd.DataFrame(end)\n",
    "sess = pd.DataFrame(session_length)\n",
    "#shuffle = pd.DataFrame(shuffle)"
   ]
  },
  {
   "cell_type": "code",
   "execution_count": null,
   "metadata": {},
   "outputs": [],
   "source": [
    "sid_cluster"
   ]
  },
  {
   "cell_type": "code",
   "execution_count": null,
   "metadata": {},
   "outputs": [],
   "source": [
    "start"
   ]
  },
  {
   "cell_type": "code",
   "execution_count": null,
   "metadata": {},
   "outputs": [],
   "source": [
    "end"
   ]
  },
  {
   "cell_type": "code",
   "execution_count": null,
   "metadata": {},
   "outputs": [],
   "source": [
    "sess"
   ]
  },
  {
   "cell_type": "code",
   "execution_count": null,
   "metadata": {},
   "outputs": [],
   "source": [
    "plt.figure(figsize=(10, 8))\n",
    "plt.scatter(sid_cluster[0],sid_cluster[1],c = 'g', marker = 's')\n",
    "plt.scatter(start[0],start[1],c = 'blue', marker = 's')\n",
    "plt.scatter(end[0],end[1],c = 'red', marker = 's')\n",
    "plt.scatter(sess[0],sess[1],c = 'orange', marker = 's')\n",
    "color = ['session_id','start_session','end_session','session_length']\n",
    "plt.legend(color)\n",
    "plt.xticks()\n",
    "plt.yticks()\n",
    "plt.show()"
   ]
  },
  {
   "cell_type": "code",
   "execution_count": null,
   "metadata": {},
   "outputs": [],
   "source": [
    "g2 = sid_cluster"
   ]
  },
  {
   "cell_type": "code",
   "execution_count": null,
   "metadata": {},
   "outputs": [],
   "source": [
    "start"
   ]
  },
  {
   "cell_type": "code",
   "execution_count": null,
   "metadata": {},
   "outputs": [],
   "source": [
    "d2 = pd.DataFrame((sid_cluster[0]-start[0]).astype('float')**2 + (sid_cluster[1]-start[1]).astype('float')**2)\n",
    "d3 = pd.DataFrame((sid_cluster[0]-end[0]).astype('float')**2 + (sid_cluster[1]-end[1]).astype('float')**2)\n",
    "d4 = pd.DataFrame((sid_cluster[0]-sess[0]).astype('float')**2 + (sid_cluster[1]-sess[1]).astype('float')**2)\n",
    "\n"
   ]
  },
  {
   "cell_type": "code",
   "execution_count": null,
   "metadata": {},
   "outputs": [],
   "source": [
    "print(d2)\n",
    "print(d3)\n",
    "print(d4)"
   ]
  },
  {
   "cell_type": "code",
   "execution_count": null,
   "metadata": {},
   "outputs": [],
   "source": [
    "d22 = d2"
   ]
  },
  {
   "cell_type": "code",
   "execution_count": null,
   "metadata": {},
   "outputs": [],
   "source": [
    "d22"
   ]
  },
  {
   "cell_type": "code",
   "execution_count": null,
   "metadata": {},
   "outputs": [],
   "source": [
    "d22['end'] = d3"
   ]
  },
  {
   "cell_type": "code",
   "execution_count": null,
   "metadata": {},
   "outputs": [],
   "source": [
    "d22['sess'] = d4"
   ]
  },
  {
   "cell_type": "code",
   "execution_count": null,
   "metadata": {},
   "outputs": [],
   "source": [
    "d22.rename(columns = {0:'start'}, inplace = True) "
   ]
  },
  {
   "cell_type": "code",
   "execution_count": null,
   "metadata": {},
   "outputs": [],
   "source": [
    "d22"
   ]
  },
  {
   "cell_type": "code",
   "execution_count": null,
   "metadata": {},
   "outputs": [],
   "source": [
    "plt.figure(figsize=(10, 7))\n",
    "d22.boxplot(column=['start','end','sess'],patch_artist='True',vert=True,showmeans=True)\n",
    "plt.show()"
   ]
  },
  {
   "cell_type": "code",
   "execution_count": null,
   "metadata": {},
   "outputs": [],
   "source": [
    "#d2 = math.sqrt( ((sid_cluster[0]-start[0])**2)+((sid_cluster[1]-start[1])**2) )"
   ]
  },
  {
   "cell_type": "code",
   "execution_count": null,
   "metadata": {},
   "outputs": [],
   "source": [
    "dat.columns"
   ]
  },
  {
   "cell_type": "code",
   "execution_count": null,
   "metadata": {},
   "outputs": [],
   "source": []
  },
  {
   "cell_type": "code",
   "execution_count": null,
   "metadata": {},
   "outputs": [],
   "source": [
    "G6 = le.fit_transform(dat['session_id'])\n",
    "m2,n2 = make_blobs(G6[167879],centers=3,random_state=0, cluster_std=0.55)\n",
    "plt.figure(figsize=(10, 8)) \n",
    "plt.scatter(m2[:, 0], m2[:, 1], c=n2, s=30, cmap='autumn')\n",
    "plt.show()\n",
    "from sklearn.cluster import KMeans\n",
    "Kmean = KMeans(n_clusters=3)\n",
    "Kmean.fit(m2)\n",
    "print(Kmean.cluster_centers_)\n",
    "\n",
    "\n",
    "G11 = le.fit_transform(dat['beat_strength'])\n",
    "m11,n11 = make_blobs(G11[167879],centers=3,random_state=0, cluster_std=0.55)\n",
    "plt.figure(figsize=(10, 8)) \n",
    "plt.scatter(m11[:, 0], m11[:, 1], c=n11, s=30, cmap='autumn')\n",
    "plt.show()\n",
    "from sklearn.cluster import KMeans\n",
    "Kmean11 = KMeans(n_clusters=3)\n",
    "Kmean11.fit(m11)\n",
    "print(Kmean11.cluster_centers_)\n",
    "\n",
    "G12 = le.fit_transform(dat['acousticness'])\n",
    "m12,n12 = make_blobs(G12[167879],centers=3,random_state=0, cluster_std=0.55)\n",
    "plt.figure(figsize=(10, 8)) \n",
    "plt.scatter(m12[:, 0], m12[:, 1], c=n12, s=30, cmap='autumn')\n",
    "plt.show()\n",
    "from sklearn.cluster import KMeans\n",
    "Kmean12 = KMeans(n_clusters=3)\n",
    "Kmean12.fit(m12)\n",
    "print(Kmean12.cluster_centers_)\n",
    "\n",
    "G13 = le.fit_transform(dat['bounciness'])\n",
    "m13,n13 = make_blobs(G13[167879],centers=3,random_state=0, cluster_std=0.45) \n",
    "plt.figure(figsize=(10, 8)) \n",
    "plt.scatter(m13[:, 0], m13[:, 1], c=n13, s=30, cmap='autumn')\n",
    "\n",
    "plt.show()\n",
    "from sklearn.cluster import KMeans\n",
    "Kmean13 = KMeans(n_clusters=3)\n",
    "Kmean13.fit(m13)\n",
    "Kmean13.cluster_centers_"
   ]
  },
  {
   "cell_type": "code",
   "execution_count": null,
   "metadata": {},
   "outputs": [],
   "source": [
    "beat = pd.DataFrame(Kmean11.cluster_centers_)\n",
    "ac = pd.DataFrame(Kmean12.cluster_centers_)\n",
    "bounce = pd.DataFrame(Kmean13.cluster_centers_)"
   ]
  },
  {
   "cell_type": "code",
   "execution_count": null,
   "metadata": {},
   "outputs": [],
   "source": [
    "sid_cluster"
   ]
  },
  {
   "cell_type": "code",
   "execution_count": null,
   "metadata": {},
   "outputs": [],
   "source": [
    "beat"
   ]
  },
  {
   "cell_type": "code",
   "execution_count": null,
   "metadata": {},
   "outputs": [],
   "source": [
    "ac"
   ]
  },
  {
   "cell_type": "code",
   "execution_count": null,
   "metadata": {},
   "outputs": [],
   "source": [
    "plt.figure(figsize=(10, 8))\n",
    "plt.scatter(sid_cluster[0],sid_cluster[1],c = 'g', marker = 's')\n",
    "plt.scatter(beat[0],beat[1],c = 'blue', marker = 's')\n",
    "plt.scatter(ac[0],ac[1],c = 'r', marker = 's')\n",
    "plt.scatter(bounce[0],bounce[1],c = 'grey', marker = 's')\n",
    "color = ['session_id','beat','ac','bounce']\n",
    "plt.legend(color)\n",
    "plt.xticks()\n",
    "plt.yticks()\n",
    "\n",
    "plt.show()"
   ]
  },
  {
   "cell_type": "code",
   "execution_count": null,
   "metadata": {},
   "outputs": [],
   "source": [
    "d5 = pd.DataFrame((sid_cluster[0]-beat[0]).astype('float')**2 + (sid_cluster[1]-beat[1]).astype('float')**2)\n",
    "d6 = pd.DataFrame((sid_cluster[0]-ac[0]).astype('float')**2 + (sid_cluster[1]-ac[1]).astype('float')**2)\n",
    "d7 = pd.DataFrame((sid_cluster[0]-bounce[0]).astype('float')**2 + (sid_cluster[1]-bounce[1]).astype('float')**2)"
   ]
  },
  {
   "cell_type": "code",
   "execution_count": null,
   "metadata": {},
   "outputs": [],
   "source": [
    "d23 = d5\n",
    "d23['ac'] = d6\n",
    "d23['bounce'] = d7\n",
    "d23.rename(columns = {0:'beat'}, inplace = True) \n",
    "d23"
   ]
  },
  {
   "cell_type": "code",
   "execution_count": null,
   "metadata": {},
   "outputs": [],
   "source": [
    "plt.figure(figsize=(10, 7))\n",
    "d23.boxplot(column=['beat','ac','bounce'],patch_artist='True',vert=True,showmeans=True)\n",
    "plt.show()"
   ]
  },
  {
   "cell_type": "code",
   "execution_count": null,
   "metadata": {},
   "outputs": [],
   "source": []
  },
  {
   "cell_type": "code",
   "execution_count": null,
   "metadata": {},
   "outputs": [],
   "source": [
    "plt.figure(figsize=(10, 8))\n",
    "plt.scatter(sid_cluster[0],sid_cluster[1],c = 'g', marker = 's')\n",
    "plt.scatter(beat[0],beat[1],c = 'blue', marker = 's')\n",
    "plt.scatter(ac[0],ac[1],c = 'r', marker = 's')\n",
    "plt.scatter(bounce[0],bounce[1],c = 'grey', marker = 's')\n",
    "plt.scatter(start[0],start[1],c = 'orange', marker = 's')\n",
    "plt.scatter(end[0],end[1],c = 'black', marker = 's')\n",
    "plt.scatter(sess[0],sess[1],c = 'pink', marker = 's')\n",
    "color = ['session_id','beat','ac','bounce','start','end','sess']\n",
    "plt.legend(color)\n",
    "plt.xticks()\n",
    "plt.yticks()\n",
    "\n",
    "plt.show()"
   ]
  },
  {
   "cell_type": "code",
   "execution_count": null,
   "metadata": {},
   "outputs": [],
   "source": [
    "d45 = d22"
   ]
  },
  {
   "cell_type": "code",
   "execution_count": null,
   "metadata": {},
   "outputs": [],
   "source": [
    "d45"
   ]
  },
  {
   "cell_type": "code",
   "execution_count": null,
   "metadata": {},
   "outputs": [],
   "source": [
    "\n",
    "d45['ac'] = d6\n",
    "d45['bounce'] = d7\n",
    "\n"
   ]
  },
  {
   "cell_type": "code",
   "execution_count": null,
   "metadata": {},
   "outputs": [],
   "source": [
    "d45['beat'] = d23['beat']"
   ]
  },
  {
   "cell_type": "code",
   "execution_count": null,
   "metadata": {},
   "outputs": [],
   "source": [
    "d45"
   ]
  },
  {
   "cell_type": "code",
   "execution_count": null,
   "metadata": {},
   "outputs": [],
   "source": [
    "plt.figure(figsize=(10, 7))\n",
    "d45.boxplot(column=['start','end','sess','ac','bounce','beat'],patch_artist='True',vert=True,showmeans=True)\n",
    "plt.show()"
   ]
  },
  {
   "cell_type": "code",
   "execution_count": null,
   "metadata": {},
   "outputs": [],
   "source": []
  }
 ],
 "metadata": {
  "kernelspec": {
   "display_name": "Python 3",
   "language": "python",
   "name": "python3"
  },
  "language_info": {
   "codemirror_mode": {
    "name": "ipython",
    "version": 3
   },
   "file_extension": ".py",
   "mimetype": "text/x-python",
   "name": "python",
   "nbconvert_exporter": "python",
   "pygments_lexer": "ipython3",
   "version": "3.7.4"
  }
 },
 "nbformat": 4,
 "nbformat_minor": 2
}
