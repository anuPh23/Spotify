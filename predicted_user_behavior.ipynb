{
 "cells": [
  {
   "cell_type": "code",
   "execution_count": 65,
   "metadata": {},
   "outputs": [
    {
     "name": "stdout",
     "output_type": "stream",
     "text": [
      "10000\n"
     ]
    },
    {
     "data": {
      "text/html": [
       "<div>\n",
       "<style>\n",
       "    .dataframe thead tr:only-child th {\n",
       "        text-align: right;\n",
       "    }\n",
       "\n",
       "    .dataframe thead th {\n",
       "        text-align: left;\n",
       "    }\n",
       "\n",
       "    .dataframe tbody tr th {\n",
       "        vertical-align: top;\n",
       "    }\n",
       "</style>\n",
       "<table border=\"1\" class=\"dataframe\">\n",
       "  <thead>\n",
       "    <tr style=\"text-align: right;\">\n",
       "      <th></th>\n",
       "      <th>Unnamed: 0</th>\n",
       "      <th>session_id</th>\n",
       "      <th>track_id</th>\n",
       "      <th>skip_1</th>\n",
       "      <th>skip_2</th>\n",
       "      <th>skip_3</th>\n",
       "      <th>not_skipped</th>\n",
       "      <th>context_switch</th>\n",
       "      <th>hist_user_behavior_reason_start</th>\n",
       "      <th>hist_user_behavior_reason_end</th>\n",
       "      <th>hist_user_behavior_is_shuffle</th>\n",
       "      <th>skip_score</th>\n",
       "      <th>liking</th>\n",
       "      <th>rating</th>\n",
       "    </tr>\n",
       "  </thead>\n",
       "  <tbody>\n",
       "    <tr>\n",
       "      <th>0</th>\n",
       "      <td>0</td>\n",
       "      <td>0_00006f66-33e5-4de7-a324-2d18e439fc1e</td>\n",
       "      <td>t_0479f24c-27d2-46d6-a00c-7ec928f2b539</td>\n",
       "      <td>0</td>\n",
       "      <td>0.0</td>\n",
       "      <td>0.0</td>\n",
       "      <td>1</td>\n",
       "      <td>0</td>\n",
       "      <td>1.0</td>\n",
       "      <td>1.0</td>\n",
       "      <td>1</td>\n",
       "      <td>1.0</td>\n",
       "      <td>3.0</td>\n",
       "      <td>4.0</td>\n",
       "    </tr>\n",
       "    <tr>\n",
       "      <th>1</th>\n",
       "      <td>1</td>\n",
       "      <td>0_00079a23-1600-486a-91bd-5208be0c745a</td>\n",
       "      <td>t_0479f24c-27d2-46d6-a00c-7ec928f2b539</td>\n",
       "      <td>0</td>\n",
       "      <td>0.0</td>\n",
       "      <td>0.2</td>\n",
       "      <td>0</td>\n",
       "      <td>0</td>\n",
       "      <td>0.3</td>\n",
       "      <td>0.4</td>\n",
       "      <td>0</td>\n",
       "      <td>0.2</td>\n",
       "      <td>0.7</td>\n",
       "      <td>0.9</td>\n",
       "    </tr>\n",
       "    <tr>\n",
       "      <th>2</th>\n",
       "      <td>2</td>\n",
       "      <td>0_012b0fb4-0cc3-429f-9a78-cc6e622153fb</td>\n",
       "      <td>t_0479f24c-27d2-46d6-a00c-7ec928f2b539</td>\n",
       "      <td>0</td>\n",
       "      <td>0.0</td>\n",
       "      <td>0.0</td>\n",
       "      <td>1</td>\n",
       "      <td>0</td>\n",
       "      <td>1.0</td>\n",
       "      <td>1.0</td>\n",
       "      <td>0</td>\n",
       "      <td>1.0</td>\n",
       "      <td>2.0</td>\n",
       "      <td>3.0</td>\n",
       "    </tr>\n",
       "    <tr>\n",
       "      <th>3</th>\n",
       "      <td>3</td>\n",
       "      <td>0_013cc010-c476-4ad2-8972-73449e0b2ef4</td>\n",
       "      <td>t_0479f24c-27d2-46d6-a00c-7ec928f2b539</td>\n",
       "      <td>0</td>\n",
       "      <td>0.0</td>\n",
       "      <td>0.0</td>\n",
       "      <td>1</td>\n",
       "      <td>0</td>\n",
       "      <td>0.3</td>\n",
       "      <td>1.0</td>\n",
       "      <td>0</td>\n",
       "      <td>1.0</td>\n",
       "      <td>1.3</td>\n",
       "      <td>2.3</td>\n",
       "    </tr>\n",
       "    <tr>\n",
       "      <th>4</th>\n",
       "      <td>4</td>\n",
       "      <td>0_01a5f0dc-9938-48c9-92f1-c7e51f34d290</td>\n",
       "      <td>t_0479f24c-27d2-46d6-a00c-7ec928f2b539</td>\n",
       "      <td>0</td>\n",
       "      <td>0.0</td>\n",
       "      <td>0.2</td>\n",
       "      <td>0</td>\n",
       "      <td>0</td>\n",
       "      <td>1.0</td>\n",
       "      <td>0.3</td>\n",
       "      <td>1</td>\n",
       "      <td>0.2</td>\n",
       "      <td>2.3</td>\n",
       "      <td>2.5</td>\n",
       "    </tr>\n",
       "  </tbody>\n",
       "</table>\n",
       "</div>"
      ],
      "text/plain": [
       "   Unnamed: 0                              session_id  \\\n",
       "0           0  0_00006f66-33e5-4de7-a324-2d18e439fc1e   \n",
       "1           1  0_00079a23-1600-486a-91bd-5208be0c745a   \n",
       "2           2  0_012b0fb4-0cc3-429f-9a78-cc6e622153fb   \n",
       "3           3  0_013cc010-c476-4ad2-8972-73449e0b2ef4   \n",
       "4           4  0_01a5f0dc-9938-48c9-92f1-c7e51f34d290   \n",
       "\n",
       "                                 track_id  skip_1  skip_2  skip_3  \\\n",
       "0  t_0479f24c-27d2-46d6-a00c-7ec928f2b539       0     0.0     0.0   \n",
       "1  t_0479f24c-27d2-46d6-a00c-7ec928f2b539       0     0.0     0.2   \n",
       "2  t_0479f24c-27d2-46d6-a00c-7ec928f2b539       0     0.0     0.0   \n",
       "3  t_0479f24c-27d2-46d6-a00c-7ec928f2b539       0     0.0     0.0   \n",
       "4  t_0479f24c-27d2-46d6-a00c-7ec928f2b539       0     0.0     0.2   \n",
       "\n",
       "   not_skipped  context_switch  hist_user_behavior_reason_start  \\\n",
       "0            1               0                              1.0   \n",
       "1            0               0                              0.3   \n",
       "2            1               0                              1.0   \n",
       "3            1               0                              0.3   \n",
       "4            0               0                              1.0   \n",
       "\n",
       "   hist_user_behavior_reason_end  hist_user_behavior_is_shuffle  skip_score  \\\n",
       "0                            1.0                              1         1.0   \n",
       "1                            0.4                              0         0.2   \n",
       "2                            1.0                              0         1.0   \n",
       "3                            1.0                              0         1.0   \n",
       "4                            0.3                              1         0.2   \n",
       "\n",
       "   liking  rating  \n",
       "0     3.0     4.0  \n",
       "1     0.7     0.9  \n",
       "2     2.0     3.0  \n",
       "3     1.3     2.3  \n",
       "4     2.3     2.5  "
      ]
     },
     "execution_count": 65,
     "metadata": {},
     "output_type": "execute_result"
    }
   ],
   "source": [
    "import numpy as np\n",
    "import pandas as pd\n",
    "import matplotlib.pyplot as plt\n",
    "import seaborn as sns\n",
    "import scipy as sp\n",
    "\n",
    "df = pd.read_csv(r'F:\\AppliedDataScience\\data\\ratingdf_likescore.csv')\n",
    "print(len(df))\n",
    "df.head()"
   ]
  },
  {
   "cell_type": "code",
   "execution_count": 66,
   "metadata": {},
   "outputs": [
    {
     "data": {
      "text/plain": [
       "Index(['Unnamed: 0', 'session_id', 'track_id', 'skip_1', 'skip_2', 'skip_3',\n",
       "       'not_skipped', 'context_switch', 'hist_user_behavior_reason_start',\n",
       "       'hist_user_behavior_reason_end', 'hist_user_behavior_is_shuffle',\n",
       "       'skip_score', 'liking', 'rating'],\n",
       "      dtype='object')"
      ]
     },
     "execution_count": 66,
     "metadata": {},
     "output_type": "execute_result"
    }
   ],
   "source": [
    "df.columns"
   ]
  },
  {
   "cell_type": "code",
   "execution_count": 67,
   "metadata": {
    "collapsed": true
   },
   "outputs": [],
   "source": [
    "dat = pd.read_csv(r'F:\\AppliedDataScience\\data\\dat.csv')"
   ]
  },
  {
   "cell_type": "code",
   "execution_count": 68,
   "metadata": {},
   "outputs": [
    {
     "data": {
      "text/plain": [
       "Index(['Unnamed: 0', 'session_id', 'session_position', 'session_length',\n",
       "       'track_id', 'skip_1', 'skip_2', 'skip_3', 'not_skipped',\n",
       "       'context_switch', 'no_pause_before_play', 'short_pause_before_play',\n",
       "       'long_pause_before_play', 'hist_user_behavior_n_seekfwd',\n",
       "       'hist_user_behavior_n_seekback', 'hist_user_behavior_is_shuffle',\n",
       "       'hour_of_day', 'date', 'premium', 'context_type',\n",
       "       'hist_user_behavior_reason_start', 'hist_user_behavior_reason_end',\n",
       "       'label', 'duration', 'release_year', 'us_popularity_estimate',\n",
       "       'acousticness', 'beat_strength', 'bounciness', 'danceability',\n",
       "       'dyn_range_mean', 'energy', 'flatness', 'instrumentalness', 'key',\n",
       "       'liveness', 'loudness', 'mechanism', 'mode', 'organism', 'speechiness',\n",
       "       'tempo', 'time_signature', 'valence', 'acoustic_vector_0',\n",
       "       'acoustic_vector_1', 'acoustic_vector_2', 'acoustic_vector_3',\n",
       "       'acoustic_vector_4', 'acoustic_vector_5', 'acoustic_vector_6',\n",
       "       'acoustic_vector_7'],\n",
       "      dtype='object')"
      ]
     },
     "execution_count": 68,
     "metadata": {},
     "output_type": "execute_result"
    }
   ],
   "source": [
    "dat.columns"
   ]
  },
  {
   "cell_type": "code",
   "execution_count": 69,
   "metadata": {
    "collapsed": true
   },
   "outputs": [],
   "source": [
    "new_df = df[['Unnamed: 0', 'session_id','track_id']]"
   ]
  },
  {
   "cell_type": "code",
   "execution_count": 70,
   "metadata": {},
   "outputs": [
    {
     "name": "stderr",
     "output_type": "stream",
     "text": [
      "C:\\Users\\Ted\\Anaconda3\\lib\\site-packages\\ipykernel_launcher.py:1: SettingWithCopyWarning: \n",
      "A value is trying to be set on a copy of a slice from a DataFrame.\n",
      "Try using .loc[row_indexer,col_indexer] = value instead\n",
      "\n",
      "See the caveats in the documentation: http://pandas.pydata.org/pandas-docs/stable/indexing.html#indexing-view-versus-copy\n",
      "  \"\"\"Entry point for launching an IPython kernel.\n",
      "C:\\Users\\Ted\\Anaconda3\\lib\\site-packages\\ipykernel_launcher.py:2: SettingWithCopyWarning: \n",
      "A value is trying to be set on a copy of a slice from a DataFrame.\n",
      "Try using .loc[row_indexer,col_indexer] = value instead\n",
      "\n",
      "See the caveats in the documentation: http://pandas.pydata.org/pandas-docs/stable/indexing.html#indexing-view-versus-copy\n",
      "  \n",
      "C:\\Users\\Ted\\Anaconda3\\lib\\site-packages\\ipykernel_launcher.py:3: SettingWithCopyWarning: \n",
      "A value is trying to be set on a copy of a slice from a DataFrame.\n",
      "Try using .loc[row_indexer,col_indexer] = value instead\n",
      "\n",
      "See the caveats in the documentation: http://pandas.pydata.org/pandas-docs/stable/indexing.html#indexing-view-versus-copy\n",
      "  This is separate from the ipykernel package so we can avoid doing imports until\n",
      "C:\\Users\\Ted\\Anaconda3\\lib\\site-packages\\ipykernel_launcher.py:4: SettingWithCopyWarning: \n",
      "A value is trying to be set on a copy of a slice from a DataFrame.\n",
      "Try using .loc[row_indexer,col_indexer] = value instead\n",
      "\n",
      "See the caveats in the documentation: http://pandas.pydata.org/pandas-docs/stable/indexing.html#indexing-view-versus-copy\n",
      "  after removing the cwd from sys.path.\n",
      "C:\\Users\\Ted\\Anaconda3\\lib\\site-packages\\ipykernel_launcher.py:5: SettingWithCopyWarning: \n",
      "A value is trying to be set on a copy of a slice from a DataFrame.\n",
      "Try using .loc[row_indexer,col_indexer] = value instead\n",
      "\n",
      "See the caveats in the documentation: http://pandas.pydata.org/pandas-docs/stable/indexing.html#indexing-view-versus-copy\n",
      "  \"\"\"\n",
      "C:\\Users\\Ted\\Anaconda3\\lib\\site-packages\\ipykernel_launcher.py:6: SettingWithCopyWarning: \n",
      "A value is trying to be set on a copy of a slice from a DataFrame.\n",
      "Try using .loc[row_indexer,col_indexer] = value instead\n",
      "\n",
      "See the caveats in the documentation: http://pandas.pydata.org/pandas-docs/stable/indexing.html#indexing-view-versus-copy\n",
      "  \n",
      "C:\\Users\\Ted\\Anaconda3\\lib\\site-packages\\ipykernel_launcher.py:7: SettingWithCopyWarning: \n",
      "A value is trying to be set on a copy of a slice from a DataFrame.\n",
      "Try using .loc[row_indexer,col_indexer] = value instead\n",
      "\n",
      "See the caveats in the documentation: http://pandas.pydata.org/pandas-docs/stable/indexing.html#indexing-view-versus-copy\n",
      "  import sys\n",
      "C:\\Users\\Ted\\Anaconda3\\lib\\site-packages\\ipykernel_launcher.py:8: SettingWithCopyWarning: \n",
      "A value is trying to be set on a copy of a slice from a DataFrame.\n",
      "Try using .loc[row_indexer,col_indexer] = value instead\n",
      "\n",
      "See the caveats in the documentation: http://pandas.pydata.org/pandas-docs/stable/indexing.html#indexing-view-versus-copy\n",
      "  \n",
      "C:\\Users\\Ted\\Anaconda3\\lib\\site-packages\\ipykernel_launcher.py:9: SettingWithCopyWarning: \n",
      "A value is trying to be set on a copy of a slice from a DataFrame.\n",
      "Try using .loc[row_indexer,col_indexer] = value instead\n",
      "\n",
      "See the caveats in the documentation: http://pandas.pydata.org/pandas-docs/stable/indexing.html#indexing-view-versus-copy\n",
      "  if __name__ == '__main__':\n",
      "C:\\Users\\Ted\\Anaconda3\\lib\\site-packages\\ipykernel_launcher.py:10: SettingWithCopyWarning: \n",
      "A value is trying to be set on a copy of a slice from a DataFrame.\n",
      "Try using .loc[row_indexer,col_indexer] = value instead\n",
      "\n",
      "See the caveats in the documentation: http://pandas.pydata.org/pandas-docs/stable/indexing.html#indexing-view-versus-copy\n",
      "  # Remove the CWD from sys.path while we load stuff.\n"
     ]
    }
   ],
   "source": [
    "new_df['acousticness'] = dat['acousticness']\n",
    "new_df['beat_strength'] = dat['beat_strength']\n",
    "new_df['bounciness'] = dat['bounciness']\n",
    "new_df['danceability'] = dat['danceability']\n",
    "new_df['dyn_range_mean'] = dat['dyn_range_mean']\n",
    "new_df['energy'] = dat['energy']\n",
    "new_df['flatness'] = dat['flatness']\n",
    "new_df['instrumentalness'] = dat['instrumentalness']\n",
    "new_df['key'] = dat['key']\n",
    "new_df['liveness'] = dat['liveness']\n",
    "new_df['loudness'] = dat['loudness']"
   ]
  },
  {
   "cell_type": "code",
   "execution_count": 71,
   "metadata": {
    "collapsed": true
   },
   "outputs": [],
   "source": [
    "new_df['hist_user_behavior_reason_start'] = df['hist_user_behavior_reason_start']\n",
    "new_df['hist_user_behavior_reason_end'] = df['hist_user_behavior_reason_end']\n",
    "new_df['hist_user_behavior_is_shuffle'] = df['hist_user_behavior_is_shuffle']"
   ]
  },
  {
   "cell_type": "code",
   "execution_count": 72,
   "metadata": {},
   "outputs": [
    {
     "data": {
      "text/html": [
       "<div>\n",
       "<style>\n",
       "    .dataframe thead tr:only-child th {\n",
       "        text-align: right;\n",
       "    }\n",
       "\n",
       "    .dataframe thead th {\n",
       "        text-align: left;\n",
       "    }\n",
       "\n",
       "    .dataframe tbody tr th {\n",
       "        vertical-align: top;\n",
       "    }\n",
       "</style>\n",
       "<table border=\"1\" class=\"dataframe\">\n",
       "  <thead>\n",
       "    <tr style=\"text-align: right;\">\n",
       "      <th></th>\n",
       "      <th>Unnamed: 0</th>\n",
       "      <th>session_id</th>\n",
       "      <th>track_id</th>\n",
       "      <th>acousticness</th>\n",
       "      <th>beat_strength</th>\n",
       "      <th>bounciness</th>\n",
       "      <th>danceability</th>\n",
       "      <th>dyn_range_mean</th>\n",
       "      <th>energy</th>\n",
       "      <th>flatness</th>\n",
       "      <th>instrumentalness</th>\n",
       "      <th>key</th>\n",
       "      <th>liveness</th>\n",
       "      <th>loudness</th>\n",
       "      <th>hist_user_behavior_reason_start</th>\n",
       "      <th>hist_user_behavior_reason_end</th>\n",
       "      <th>hist_user_behavior_is_shuffle</th>\n",
       "    </tr>\n",
       "  </thead>\n",
       "  <tbody>\n",
       "    <tr>\n",
       "      <th>0</th>\n",
       "      <td>0</td>\n",
       "      <td>0_00006f66-33e5-4de7-a324-2d18e439fc1e</td>\n",
       "      <td>t_0479f24c-27d2-46d6-a00c-7ec928f2b539</td>\n",
       "      <td>0.015848</td>\n",
       "      <td>0.438551</td>\n",
       "      <td>0.473455</td>\n",
       "      <td>0.653119</td>\n",
       "      <td>7.660024</td>\n",
       "      <td>0.553465</td>\n",
       "      <td>1.035007</td>\n",
       "      <td>0.003484</td>\n",
       "      <td>1</td>\n",
       "      <td>0.678553</td>\n",
       "      <td>-6.577</td>\n",
       "      <td>1.0</td>\n",
       "      <td>1.0</td>\n",
       "      <td>1</td>\n",
       "    </tr>\n",
       "    <tr>\n",
       "      <th>1</th>\n",
       "      <td>1</td>\n",
       "      <td>0_00079a23-1600-486a-91bd-5208be0c745a</td>\n",
       "      <td>t_0479f24c-27d2-46d6-a00c-7ec928f2b539</td>\n",
       "      <td>0.015848</td>\n",
       "      <td>0.438551</td>\n",
       "      <td>0.473455</td>\n",
       "      <td>0.653119</td>\n",
       "      <td>7.660024</td>\n",
       "      <td>0.553465</td>\n",
       "      <td>1.035007</td>\n",
       "      <td>0.003484</td>\n",
       "      <td>1</td>\n",
       "      <td>0.678553</td>\n",
       "      <td>-6.577</td>\n",
       "      <td>0.3</td>\n",
       "      <td>0.4</td>\n",
       "      <td>0</td>\n",
       "    </tr>\n",
       "    <tr>\n",
       "      <th>2</th>\n",
       "      <td>2</td>\n",
       "      <td>0_012b0fb4-0cc3-429f-9a78-cc6e622153fb</td>\n",
       "      <td>t_0479f24c-27d2-46d6-a00c-7ec928f2b539</td>\n",
       "      <td>0.015848</td>\n",
       "      <td>0.438551</td>\n",
       "      <td>0.473455</td>\n",
       "      <td>0.653119</td>\n",
       "      <td>7.660024</td>\n",
       "      <td>0.553465</td>\n",
       "      <td>1.035007</td>\n",
       "      <td>0.003484</td>\n",
       "      <td>1</td>\n",
       "      <td>0.678553</td>\n",
       "      <td>-6.577</td>\n",
       "      <td>1.0</td>\n",
       "      <td>1.0</td>\n",
       "      <td>0</td>\n",
       "    </tr>\n",
       "    <tr>\n",
       "      <th>3</th>\n",
       "      <td>3</td>\n",
       "      <td>0_013cc010-c476-4ad2-8972-73449e0b2ef4</td>\n",
       "      <td>t_0479f24c-27d2-46d6-a00c-7ec928f2b539</td>\n",
       "      <td>0.015848</td>\n",
       "      <td>0.438551</td>\n",
       "      <td>0.473455</td>\n",
       "      <td>0.653119</td>\n",
       "      <td>7.660024</td>\n",
       "      <td>0.553465</td>\n",
       "      <td>1.035007</td>\n",
       "      <td>0.003484</td>\n",
       "      <td>1</td>\n",
       "      <td>0.678553</td>\n",
       "      <td>-6.577</td>\n",
       "      <td>0.3</td>\n",
       "      <td>1.0</td>\n",
       "      <td>0</td>\n",
       "    </tr>\n",
       "    <tr>\n",
       "      <th>4</th>\n",
       "      <td>4</td>\n",
       "      <td>0_01a5f0dc-9938-48c9-92f1-c7e51f34d290</td>\n",
       "      <td>t_0479f24c-27d2-46d6-a00c-7ec928f2b539</td>\n",
       "      <td>0.015848</td>\n",
       "      <td>0.438551</td>\n",
       "      <td>0.473455</td>\n",
       "      <td>0.653119</td>\n",
       "      <td>7.660024</td>\n",
       "      <td>0.553465</td>\n",
       "      <td>1.035007</td>\n",
       "      <td>0.003484</td>\n",
       "      <td>1</td>\n",
       "      <td>0.678553</td>\n",
       "      <td>-6.577</td>\n",
       "      <td>1.0</td>\n",
       "      <td>0.3</td>\n",
       "      <td>1</td>\n",
       "    </tr>\n",
       "  </tbody>\n",
       "</table>\n",
       "</div>"
      ],
      "text/plain": [
       "   Unnamed: 0                              session_id  \\\n",
       "0           0  0_00006f66-33e5-4de7-a324-2d18e439fc1e   \n",
       "1           1  0_00079a23-1600-486a-91bd-5208be0c745a   \n",
       "2           2  0_012b0fb4-0cc3-429f-9a78-cc6e622153fb   \n",
       "3           3  0_013cc010-c476-4ad2-8972-73449e0b2ef4   \n",
       "4           4  0_01a5f0dc-9938-48c9-92f1-c7e51f34d290   \n",
       "\n",
       "                                 track_id  acousticness  beat_strength  \\\n",
       "0  t_0479f24c-27d2-46d6-a00c-7ec928f2b539      0.015848       0.438551   \n",
       "1  t_0479f24c-27d2-46d6-a00c-7ec928f2b539      0.015848       0.438551   \n",
       "2  t_0479f24c-27d2-46d6-a00c-7ec928f2b539      0.015848       0.438551   \n",
       "3  t_0479f24c-27d2-46d6-a00c-7ec928f2b539      0.015848       0.438551   \n",
       "4  t_0479f24c-27d2-46d6-a00c-7ec928f2b539      0.015848       0.438551   \n",
       "\n",
       "   bounciness  danceability  dyn_range_mean    energy  flatness  \\\n",
       "0    0.473455      0.653119        7.660024  0.553465  1.035007   \n",
       "1    0.473455      0.653119        7.660024  0.553465  1.035007   \n",
       "2    0.473455      0.653119        7.660024  0.553465  1.035007   \n",
       "3    0.473455      0.653119        7.660024  0.553465  1.035007   \n",
       "4    0.473455      0.653119        7.660024  0.553465  1.035007   \n",
       "\n",
       "   instrumentalness  key  liveness  loudness  hist_user_behavior_reason_start  \\\n",
       "0          0.003484    1  0.678553    -6.577                              1.0   \n",
       "1          0.003484    1  0.678553    -6.577                              0.3   \n",
       "2          0.003484    1  0.678553    -6.577                              1.0   \n",
       "3          0.003484    1  0.678553    -6.577                              0.3   \n",
       "4          0.003484    1  0.678553    -6.577                              1.0   \n",
       "\n",
       "   hist_user_behavior_reason_end  hist_user_behavior_is_shuffle  \n",
       "0                            1.0                              1  \n",
       "1                            0.4                              0  \n",
       "2                            1.0                              0  \n",
       "3                            1.0                              0  \n",
       "4                            0.3                              1  "
      ]
     },
     "execution_count": 72,
     "metadata": {},
     "output_type": "execute_result"
    }
   ],
   "source": [
    "new_df.head()"
   ]
  },
  {
   "cell_type": "code",
   "execution_count": 73,
   "metadata": {},
   "outputs": [],
   "source": [
    "X = new_df[['acousticness','bounciness']]\n",
    "X = X.values\n",
    "\n",
    "y = new_df[['hist_user_behavior_reason_start','hist_user_behavior_reason_end','hist_user_behavior_is_shuffle']]\n",
    "y = y.values"
   ]
  },
  {
   "cell_type": "code",
   "execution_count": 74,
   "metadata": {},
   "outputs": [
    {
     "data": {
      "text/plain": [
       "array([[0.01584839, 0.47345549],\n",
       "       [0.01584839, 0.47345549],\n",
       "       [0.01584839, 0.47345549],\n",
       "       ...,\n",
       "       [0.03320934, 0.743599  ],\n",
       "       [0.03320934, 0.743599  ],\n",
       "       [0.03320934, 0.743599  ]])"
      ]
     },
     "execution_count": 74,
     "metadata": {},
     "output_type": "execute_result"
    }
   ],
   "source": [
    "X"
   ]
  },
  {
   "cell_type": "code",
   "execution_count": 75,
   "metadata": {},
   "outputs": [
    {
     "data": {
      "text/plain": [
       "array([[1. , 1. , 1. ],\n",
       "       [0.3, 0.4, 0. ],\n",
       "       [1. , 1. , 0. ],\n",
       "       ...,\n",
       "       [0.2, 0.3, 0. ],\n",
       "       [1. , 0.3, 0. ],\n",
       "       [0.2, 0.4, 0. ]])"
      ]
     },
     "execution_count": 75,
     "metadata": {},
     "output_type": "execute_result"
    }
   ],
   "source": [
    "y"
   ]
  },
  {
   "cell_type": "code",
   "execution_count": 27,
   "metadata": {
    "collapsed": true
   },
   "outputs": [],
   "source": [
    "from sklearn.preprocessing import MultiLabelBinarizer\n",
    "mlb = MultiLabelBinarizer()\n",
    "y=pd.DataFrame(mlb.fit_transform(df[['hist_user_behavior_reason_start','hist_user_behavior_reason_end','hist_user_behavior_is_shuffle']].values), \n",
    "               columns=mlb.classes_, index=df.index)"
   ]
  },
  {
   "cell_type": "code",
   "execution_count": 29,
   "metadata": {},
   "outputs": [
    {
     "data": {
      "text/html": [
       "<div>\n",
       "<style>\n",
       "    .dataframe thead tr:only-child th {\n",
       "        text-align: right;\n",
       "    }\n",
       "\n",
       "    .dataframe thead th {\n",
       "        text-align: left;\n",
       "    }\n",
       "\n",
       "    .dataframe tbody tr th {\n",
       "        vertical-align: top;\n",
       "    }\n",
       "</style>\n",
       "<table border=\"1\" class=\"dataframe\">\n",
       "  <thead>\n",
       "    <tr style=\"text-align: right;\">\n",
       "      <th></th>\n",
       "      <th>0.0</th>\n",
       "      <th>0.2</th>\n",
       "      <th>0.3</th>\n",
       "      <th>0.4</th>\n",
       "      <th>0.5</th>\n",
       "      <th>0.9</th>\n",
       "      <th>1.0</th>\n",
       "    </tr>\n",
       "  </thead>\n",
       "  <tbody>\n",
       "    <tr>\n",
       "      <th>0</th>\n",
       "      <td>0</td>\n",
       "      <td>0</td>\n",
       "      <td>0</td>\n",
       "      <td>0</td>\n",
       "      <td>0</td>\n",
       "      <td>0</td>\n",
       "      <td>1</td>\n",
       "    </tr>\n",
       "    <tr>\n",
       "      <th>1</th>\n",
       "      <td>1</td>\n",
       "      <td>0</td>\n",
       "      <td>1</td>\n",
       "      <td>1</td>\n",
       "      <td>0</td>\n",
       "      <td>0</td>\n",
       "      <td>0</td>\n",
       "    </tr>\n",
       "    <tr>\n",
       "      <th>2</th>\n",
       "      <td>1</td>\n",
       "      <td>0</td>\n",
       "      <td>0</td>\n",
       "      <td>0</td>\n",
       "      <td>0</td>\n",
       "      <td>0</td>\n",
       "      <td>1</td>\n",
       "    </tr>\n",
       "    <tr>\n",
       "      <th>3</th>\n",
       "      <td>1</td>\n",
       "      <td>0</td>\n",
       "      <td>1</td>\n",
       "      <td>0</td>\n",
       "      <td>0</td>\n",
       "      <td>0</td>\n",
       "      <td>1</td>\n",
       "    </tr>\n",
       "    <tr>\n",
       "      <th>4</th>\n",
       "      <td>0</td>\n",
       "      <td>0</td>\n",
       "      <td>1</td>\n",
       "      <td>0</td>\n",
       "      <td>0</td>\n",
       "      <td>0</td>\n",
       "      <td>1</td>\n",
       "    </tr>\n",
       "  </tbody>\n",
       "</table>\n",
       "</div>"
      ],
      "text/plain": [
       "   0.0  0.2  0.3  0.4  0.5  0.9  1.0\n",
       "0    0    0    0    0    0    0    1\n",
       "1    1    0    1    1    0    0    0\n",
       "2    1    0    0    0    0    0    1\n",
       "3    1    0    1    0    0    0    1\n",
       "4    0    0    1    0    0    0    1"
      ]
     },
     "execution_count": 29,
     "metadata": {},
     "output_type": "execute_result"
    }
   ],
   "source": [
    "y.head()"
   ]
  },
  {
   "cell_type": "code",
   "execution_count": 30,
   "metadata": {
    "collapsed": true
   },
   "outputs": [],
   "source": [
    "X_train, X_test, y_train, y_test = train_test_split(X, y, test_size=0.15, random_state=1)"
   ]
  },
  {
   "cell_type": "code",
   "execution_count": 33,
   "metadata": {},
   "outputs": [],
   "source": [
    "from sklearn.model_selection import train_test_split # Import train_test_split function\n",
    "from sklearn import metrics\n",
    "from sklearn.neighbors import KNeighborsClassifier\n",
    "knc = KNeighborsClassifier()\n",
    "knc.fit(X_train, y_train)\n",
    "y_pred = knc.predict(X_test)"
   ]
  },
  {
   "cell_type": "code",
   "execution_count": 35,
   "metadata": {},
   "outputs": [],
   "source": [
    "y_pred = pd.DataFrame(y_pred)"
   ]
  },
  {
   "cell_type": "code",
   "execution_count": 36,
   "metadata": {},
   "outputs": [
    {
     "data": {
      "text/html": [
       "<div>\n",
       "<style>\n",
       "    .dataframe thead tr:only-child th {\n",
       "        text-align: right;\n",
       "    }\n",
       "\n",
       "    .dataframe thead th {\n",
       "        text-align: left;\n",
       "    }\n",
       "\n",
       "    .dataframe tbody tr th {\n",
       "        vertical-align: top;\n",
       "    }\n",
       "</style>\n",
       "<table border=\"1\" class=\"dataframe\">\n",
       "  <thead>\n",
       "    <tr style=\"text-align: right;\">\n",
       "      <th></th>\n",
       "      <th>0</th>\n",
       "      <th>1</th>\n",
       "      <th>2</th>\n",
       "      <th>3</th>\n",
       "      <th>4</th>\n",
       "      <th>5</th>\n",
       "      <th>6</th>\n",
       "    </tr>\n",
       "  </thead>\n",
       "  <tbody>\n",
       "    <tr>\n",
       "      <th>0</th>\n",
       "      <td>1</td>\n",
       "      <td>0</td>\n",
       "      <td>0</td>\n",
       "      <td>0</td>\n",
       "      <td>0</td>\n",
       "      <td>0</td>\n",
       "      <td>1</td>\n",
       "    </tr>\n",
       "    <tr>\n",
       "      <th>1</th>\n",
       "      <td>1</td>\n",
       "      <td>0</td>\n",
       "      <td>0</td>\n",
       "      <td>0</td>\n",
       "      <td>0</td>\n",
       "      <td>0</td>\n",
       "      <td>1</td>\n",
       "    </tr>\n",
       "    <tr>\n",
       "      <th>2</th>\n",
       "      <td>1</td>\n",
       "      <td>0</td>\n",
       "      <td>0</td>\n",
       "      <td>0</td>\n",
       "      <td>0</td>\n",
       "      <td>0</td>\n",
       "      <td>0</td>\n",
       "    </tr>\n",
       "    <tr>\n",
       "      <th>3</th>\n",
       "      <td>1</td>\n",
       "      <td>0</td>\n",
       "      <td>0</td>\n",
       "      <td>0</td>\n",
       "      <td>0</td>\n",
       "      <td>0</td>\n",
       "      <td>1</td>\n",
       "    </tr>\n",
       "    <tr>\n",
       "      <th>4</th>\n",
       "      <td>1</td>\n",
       "      <td>0</td>\n",
       "      <td>0</td>\n",
       "      <td>0</td>\n",
       "      <td>0</td>\n",
       "      <td>0</td>\n",
       "      <td>0</td>\n",
       "    </tr>\n",
       "  </tbody>\n",
       "</table>\n",
       "</div>"
      ],
      "text/plain": [
       "   0  1  2  3  4  5  6\n",
       "0  1  0  0  0  0  0  1\n",
       "1  1  0  0  0  0  0  1\n",
       "2  1  0  0  0  0  0  0\n",
       "3  1  0  0  0  0  0  1\n",
       "4  1  0  0  0  0  0  0"
      ]
     },
     "execution_count": 36,
     "metadata": {},
     "output_type": "execute_result"
    }
   ],
   "source": [
    "y_pred.head()"
   ]
  },
  {
   "cell_type": "code",
   "execution_count": 44,
   "metadata": {},
   "outputs": [
    {
     "data": {
      "text/html": [
       "<div>\n",
       "<style>\n",
       "    .dataframe thead tr:only-child th {\n",
       "        text-align: right;\n",
       "    }\n",
       "\n",
       "    .dataframe thead th {\n",
       "        text-align: left;\n",
       "    }\n",
       "\n",
       "    .dataframe tbody tr th {\n",
       "        vertical-align: top;\n",
       "    }\n",
       "</style>\n",
       "<table border=\"1\" class=\"dataframe\">\n",
       "  <thead>\n",
       "    <tr style=\"text-align: right;\">\n",
       "      <th></th>\n",
       "      <th>0.0</th>\n",
       "      <th>0.2</th>\n",
       "      <th>0.3</th>\n",
       "      <th>0.4</th>\n",
       "      <th>0.5</th>\n",
       "      <th>0.9</th>\n",
       "      <th>1.0</th>\n",
       "    </tr>\n",
       "  </thead>\n",
       "  <tbody>\n",
       "    <tr>\n",
       "      <th>9953</th>\n",
       "      <td>1</td>\n",
       "      <td>1</td>\n",
       "      <td>0</td>\n",
       "      <td>0</td>\n",
       "      <td>0</td>\n",
       "      <td>0</td>\n",
       "      <td>1</td>\n",
       "    </tr>\n",
       "    <tr>\n",
       "      <th>3850</th>\n",
       "      <td>1</td>\n",
       "      <td>0</td>\n",
       "      <td>1</td>\n",
       "      <td>0</td>\n",
       "      <td>0</td>\n",
       "      <td>0</td>\n",
       "      <td>1</td>\n",
       "    </tr>\n",
       "    <tr>\n",
       "      <th>4962</th>\n",
       "      <td>0</td>\n",
       "      <td>0</td>\n",
       "      <td>1</td>\n",
       "      <td>0</td>\n",
       "      <td>0</td>\n",
       "      <td>0</td>\n",
       "      <td>1</td>\n",
       "    </tr>\n",
       "    <tr>\n",
       "      <th>3886</th>\n",
       "      <td>0</td>\n",
       "      <td>0</td>\n",
       "      <td>1</td>\n",
       "      <td>0</td>\n",
       "      <td>0</td>\n",
       "      <td>0</td>\n",
       "      <td>1</td>\n",
       "    </tr>\n",
       "    <tr>\n",
       "      <th>5437</th>\n",
       "      <td>1</td>\n",
       "      <td>1</td>\n",
       "      <td>0</td>\n",
       "      <td>1</td>\n",
       "      <td>0</td>\n",
       "      <td>0</td>\n",
       "      <td>0</td>\n",
       "    </tr>\n",
       "  </tbody>\n",
       "</table>\n",
       "</div>"
      ],
      "text/plain": [
       "      0.0  0.2  0.3  0.4  0.5  0.9  1.0\n",
       "9953    1    1    0    0    0    0    1\n",
       "3850    1    0    1    0    0    0    1\n",
       "4962    0    0    1    0    0    0    1\n",
       "3886    0    0    1    0    0    0    1\n",
       "5437    1    1    0    1    0    0    0"
      ]
     },
     "execution_count": 44,
     "metadata": {},
     "output_type": "execute_result"
    }
   ],
   "source": [
    "y_test.head()"
   ]
  },
  {
   "cell_type": "code",
   "execution_count": 49,
   "metadata": {
    "collapsed": true
   },
   "outputs": [],
   "source": [
    "y_pred.rename(columns = {1:'0.2', 2:'0.3',3:'0.4',4:'0.5',5:'0.9',6:'1.0'}, inplace = True)"
   ]
  },
  {
   "cell_type": "code",
   "execution_count": 50,
   "metadata": {},
   "outputs": [
    {
     "data": {
      "text/html": [
       "<div>\n",
       "<style>\n",
       "    .dataframe thead tr:only-child th {\n",
       "        text-align: right;\n",
       "    }\n",
       "\n",
       "    .dataframe thead th {\n",
       "        text-align: left;\n",
       "    }\n",
       "\n",
       "    .dataframe tbody tr th {\n",
       "        vertical-align: top;\n",
       "    }\n",
       "</style>\n",
       "<table border=\"1\" class=\"dataframe\">\n",
       "  <thead>\n",
       "    <tr style=\"text-align: right;\">\n",
       "      <th></th>\n",
       "      <th>0.0</th>\n",
       "      <th>0.2</th>\n",
       "      <th>0.3</th>\n",
       "      <th>0.4</th>\n",
       "      <th>0.5</th>\n",
       "      <th>0.9</th>\n",
       "      <th>1.0</th>\n",
       "    </tr>\n",
       "  </thead>\n",
       "  <tbody>\n",
       "    <tr>\n",
       "      <th>0</th>\n",
       "      <td>1</td>\n",
       "      <td>0</td>\n",
       "      <td>0</td>\n",
       "      <td>0</td>\n",
       "      <td>0</td>\n",
       "      <td>0</td>\n",
       "      <td>1</td>\n",
       "    </tr>\n",
       "    <tr>\n",
       "      <th>1</th>\n",
       "      <td>1</td>\n",
       "      <td>0</td>\n",
       "      <td>0</td>\n",
       "      <td>0</td>\n",
       "      <td>0</td>\n",
       "      <td>0</td>\n",
       "      <td>1</td>\n",
       "    </tr>\n",
       "    <tr>\n",
       "      <th>2</th>\n",
       "      <td>1</td>\n",
       "      <td>0</td>\n",
       "      <td>0</td>\n",
       "      <td>0</td>\n",
       "      <td>0</td>\n",
       "      <td>0</td>\n",
       "      <td>0</td>\n",
       "    </tr>\n",
       "    <tr>\n",
       "      <th>3</th>\n",
       "      <td>1</td>\n",
       "      <td>0</td>\n",
       "      <td>0</td>\n",
       "      <td>0</td>\n",
       "      <td>0</td>\n",
       "      <td>0</td>\n",
       "      <td>1</td>\n",
       "    </tr>\n",
       "    <tr>\n",
       "      <th>4</th>\n",
       "      <td>1</td>\n",
       "      <td>0</td>\n",
       "      <td>0</td>\n",
       "      <td>0</td>\n",
       "      <td>0</td>\n",
       "      <td>0</td>\n",
       "      <td>0</td>\n",
       "    </tr>\n",
       "  </tbody>\n",
       "</table>\n",
       "</div>"
      ],
      "text/plain": [
       "   0.0  0.2  0.3  0.4  0.5  0.9  1.0\n",
       "0    1    0    0    0    0    0    1\n",
       "1    1    0    0    0    0    0    1\n",
       "2    1    0    0    0    0    0    0\n",
       "3    1    0    0    0    0    0    1\n",
       "4    1    0    0    0    0    0    0"
      ]
     },
     "execution_count": 50,
     "metadata": {},
     "output_type": "execute_result"
    }
   ],
   "source": [
    "y_pred.head()"
   ]
  },
  {
   "cell_type": "code",
   "execution_count": 55,
   "metadata": {},
   "outputs": [
    {
     "data": {
      "image/png": "[encoded data removed]",
      "text/plain": [
       "<Figure size 432x288 with 2 Axes>"
      ]
     },
     "metadata": {},
     "output_type": "display_data"
    }
   ],
   "source": [
    "import seaborn as sns\n",
    "\n",
    "sns.heatmap(y_test)\n",
    "plt.show()"
   ]
  },
  {
   "cell_type": "code",
   "execution_count": 56,
   "metadata": {},
   "outputs": [
    {
     "data": {
      "image/png": "[encoded data removed]",
      "text/plain": [
       "<Figure size 432x288 with 2 Axes>"
      ]
     },
     "metadata": {},
     "output_type": "display_data"
    }
   ],
   "source": [
    "sns.heatmap(y_pred)\n",
    "plt.show()"
   ]
  },
  {
   "cell_type": "code",
   "execution_count": null,
   "metadata": {},
   "outputs": [],
   "source": [
    "###### Applying Decision Tree Regressor\n"
   ]
  },
  {
   "cell_type": "code",
   "execution_count": 81,
   "metadata": {},
   "outputs": [],
   "source": [
    "X = new_df[['acousticness','bounciness']]\n",
    "X = X.values\n",
    "\n",
    "y = new_df[['hist_user_behavior_reason_start','hist_user_behavior_reason_end','hist_user_behavior_is_shuffle']]\n",
    "y = y.values"
   ]
  },
  {
   "cell_type": "code",
   "execution_count": 82,
   "metadata": {},
   "outputs": [
    {
     "data": {
      "text/plain": [
       "array([[0.01584839, 0.47345549],\n",
       "       [0.01584839, 0.47345549],\n",
       "       [0.01584839, 0.47345549],\n",
       "       ...,\n",
       "       [0.03320934, 0.743599  ],\n",
       "       [0.03320934, 0.743599  ],\n",
       "       [0.03320934, 0.743599  ]])"
      ]
     },
     "execution_count": 82,
     "metadata": {},
     "output_type": "execute_result"
    }
   ],
   "source": [
    "X"
   ]
  },
  {
   "cell_type": "code",
   "execution_count": 83,
   "metadata": {},
   "outputs": [
    {
     "data": {
      "text/plain": [
       "array([[1. , 1. , 1. ],\n",
       "       [0.3, 0.4, 0. ],\n",
       "       [1. , 1. , 0. ],\n",
       "       ...,\n",
       "       [0.2, 0.3, 0. ],\n",
       "       [1. , 0.3, 0. ],\n",
       "       [0.2, 0.4, 0. ]])"
      ]
     },
     "execution_count": 83,
     "metadata": {},
     "output_type": "execute_result"
    }
   ],
   "source": [
    "y"
   ]
  },
  {
   "cell_type": "code",
   "execution_count": 84,
   "metadata": {
    "collapsed": true
   },
   "outputs": [],
   "source": [
    "X_train, X_test, y_train, y_test = train_test_split(X, y, test_size=0.15, random_state=1)"
   ]
  },
  {
   "cell_type": "code",
   "execution_count": 86,
   "metadata": {},
   "outputs": [
    {
     "data": {
      "text/html": [
       "<div>\n",
       "<style>\n",
       "    .dataframe thead tr:only-child th {\n",
       "        text-align: right;\n",
       "    }\n",
       "\n",
       "    .dataframe thead th {\n",
       "        text-align: left;\n",
       "    }\n",
       "\n",
       "    .dataframe tbody tr th {\n",
       "        vertical-align: top;\n",
       "    }\n",
       "</style>\n",
       "<table border=\"1\" class=\"dataframe\">\n",
       "  <thead>\n",
       "    <tr style=\"text-align: right;\">\n",
       "      <th></th>\n",
       "      <th>0</th>\n",
       "      <th>1</th>\n",
       "      <th>2</th>\n",
       "    </tr>\n",
       "  </thead>\n",
       "  <tbody>\n",
       "    <tr>\n",
       "      <th>0</th>\n",
       "      <td>0.536649</td>\n",
       "      <td>0.655676</td>\n",
       "      <td>0.255135</td>\n",
       "    </tr>\n",
       "    <tr>\n",
       "      <th>1</th>\n",
       "      <td>0.532819</td>\n",
       "      <td>0.599853</td>\n",
       "      <td>0.328194</td>\n",
       "    </tr>\n",
       "    <tr>\n",
       "      <th>2</th>\n",
       "      <td>0.543056</td>\n",
       "      <td>0.637037</td>\n",
       "      <td>0.336806</td>\n",
       "    </tr>\n",
       "    <tr>\n",
       "      <th>3</th>\n",
       "      <td>0.532819</td>\n",
       "      <td>0.599853</td>\n",
       "      <td>0.328194</td>\n",
       "    </tr>\n",
       "    <tr>\n",
       "      <th>4</th>\n",
       "      <td>0.543056</td>\n",
       "      <td>0.637037</td>\n",
       "      <td>0.336806</td>\n",
       "    </tr>\n",
       "  </tbody>\n",
       "</table>\n",
       "</div>"
      ],
      "text/plain": [
       "          0         1         2\n",
       "0  0.536649  0.655676  0.255135\n",
       "1  0.532819  0.599853  0.328194\n",
       "2  0.543056  0.637037  0.336806\n",
       "3  0.532819  0.599853  0.328194\n",
       "4  0.543056  0.637037  0.336806"
      ]
     },
     "execution_count": 86,
     "metadata": {},
     "output_type": "execute_result"
    }
   ],
   "source": [
    "from sklearn.tree import DecisionTreeRegressor\n",
    "clf = DecisionTreeRegressor(max_depth=None, max_leaf_nodes=20)\n",
    "clf.fit(X_train, y_train)\n",
    "y_pred = clf.predict(X_test)\n",
    "y_pred = pd.DataFrame(y_pred)\n",
    "y_pred.head()\n"
   ]
  },
  {
   "cell_type": "code",
   "execution_count": 90,
   "metadata": {},
   "outputs": [
    {
     "data": {
      "image/png": "[encoded data removed]",
      "text/plain": [
       "<Figure size 432x288 with 4 Axes>"
      ]
     },
     "metadata": {},
     "output_type": "display_data"
    }
   ],
   "source": [
    "sns.heatmap(y_test)\n",
    "plt.show()"
   ]
  },
  {
   "cell_type": "code",
   "execution_count": 91,
   "metadata": {},
   "outputs": [
    {
     "data": {
      "image/png": "[encoded data removed]",
      "text/plain": [
       "<Figure size 432x288 with 2 Axes>"
      ]
     },
     "metadata": {},
     "output_type": "display_data"
    }
   ],
   "source": [
    "sns.heatmap(y_pred)\n",
    "plt.show()"
   ]
  },
  {
   "cell_type": "code",
   "execution_count": 96,
   "metadata": {},
   "outputs": [
    {
     "data": {
      "image/png": "[encoded data removed]",
      "text/plain": [
       "<Figure size 432x288 with 1 Axes>"
      ]
     },
     "metadata": {},
     "output_type": "display_data"
    },
    {
     "data": {
      "image/png": "[encoded data removed]",
      "text/plain": [
       "<Figure size 432x288 with 1 Axes>"
      ]
     },
     "metadata": {},
     "output_type": "display_data"
    }
   ],
   "source": [
    "plt.hist(y_test)\n",
    "plt.show()\n",
    "\n",
    "plt.hist(y_pred)\n",
    "plt.show()\n"
   ]
  },
  {
   "cell_type": "code",
   "execution_count": null,
   "metadata": {},
   "outputs": [],
   "source": [
    "##### Try to Make some EDA on predicted user performance"
   ]
  },
  {
   "cell_type": "code",
   "execution_count": 98,
   "metadata": {
    "collapsed": true
   },
   "outputs": [],
   "source": [
    "\n",
    "X = new_df[['acousticness','bounciness']]\n",
    "X = X.values\n",
    "\n",
    "y = new_df[['hist_user_behavior_reason_start','hist_user_behavior_reason_end','hist_user_behavior_is_shuffle']]\n",
    "y = y.values"
   ]
  },
  {
   "cell_type": "code",
   "execution_count": 99,
   "metadata": {},
   "outputs": [
    {
     "data": {
      "text/html": [
       "<div>\n",
       "<style>\n",
       "    .dataframe thead tr:only-child th {\n",
       "        text-align: right;\n",
       "    }\n",
       "\n",
       "    .dataframe thead th {\n",
       "        text-align: left;\n",
       "    }\n",
       "\n",
       "    .dataframe tbody tr th {\n",
       "        vertical-align: top;\n",
       "    }\n",
       "</style>\n",
       "<table border=\"1\" class=\"dataframe\">\n",
       "  <thead>\n",
       "    <tr style=\"text-align: right;\">\n",
       "      <th></th>\n",
       "      <th>0</th>\n",
       "      <th>1</th>\n",
       "      <th>2</th>\n",
       "    </tr>\n",
       "  </thead>\n",
       "  <tbody>\n",
       "    <tr>\n",
       "      <th>0</th>\n",
       "      <td>0.606757</td>\n",
       "      <td>0.571622</td>\n",
       "      <td>0.108108</td>\n",
       "    </tr>\n",
       "    <tr>\n",
       "      <th>1</th>\n",
       "      <td>0.606757</td>\n",
       "      <td>0.571622</td>\n",
       "      <td>0.108108</td>\n",
       "    </tr>\n",
       "    <tr>\n",
       "      <th>2</th>\n",
       "      <td>0.606757</td>\n",
       "      <td>0.571622</td>\n",
       "      <td>0.108108</td>\n",
       "    </tr>\n",
       "    <tr>\n",
       "      <th>3</th>\n",
       "      <td>0.606757</td>\n",
       "      <td>0.571622</td>\n",
       "      <td>0.108108</td>\n",
       "    </tr>\n",
       "    <tr>\n",
       "      <th>4</th>\n",
       "      <td>0.606757</td>\n",
       "      <td>0.571622</td>\n",
       "      <td>0.108108</td>\n",
       "    </tr>\n",
       "  </tbody>\n",
       "</table>\n",
       "</div>"
      ],
      "text/plain": [
       "          0         1         2\n",
       "0  0.606757  0.571622  0.108108\n",
       "1  0.606757  0.571622  0.108108\n",
       "2  0.606757  0.571622  0.108108\n",
       "3  0.606757  0.571622  0.108108\n",
       "4  0.606757  0.571622  0.108108"
      ]
     },
     "execution_count": 99,
     "metadata": {},
     "output_type": "execute_result"
    }
   ],
   "source": [
    "from sklearn.tree import DecisionTreeRegressor\n",
    "clf2 = DecisionTreeRegressor(max_depth=None, max_leaf_nodes=20)\n",
    "clf2.fit(X, y)\n",
    "y_pred2 = clf2.predict(X)\n",
    "y_pred2 = pd.DataFrame(y_pred2)\n",
    "y_pred2.head()"
   ]
  },
  {
   "cell_type": "code",
   "execution_count": 100,
   "metadata": {
    "collapsed": true
   },
   "outputs": [],
   "source": [
    "new_df['pred_hist_user_behavior_reason_start'] = y_pred2[0]"
   ]
  },
  {
   "cell_type": "code",
   "execution_count": 101,
   "metadata": {
    "collapsed": true
   },
   "outputs": [],
   "source": [
    "new_df['pred_hist_user_behavior_reason_end'] = y_pred2[1]"
   ]
  },
  {
   "cell_type": "code",
   "execution_count": 102,
   "metadata": {
    "collapsed": true
   },
   "outputs": [],
   "source": [
    "new_df['pred_hist_user_behavior_is_shuffle'] = y_pred2[2]"
   ]
  },
  {
   "cell_type": "code",
   "execution_count": 103,
   "metadata": {},
   "outputs": [
    {
     "data": {
      "text/html": [
       "<div>\n",
       "<style>\n",
       "    .dataframe thead tr:only-child th {\n",
       "        text-align: right;\n",
       "    }\n",
       "\n",
       "    .dataframe thead th {\n",
       "        text-align: left;\n",
       "    }\n",
       "\n",
       "    .dataframe tbody tr th {\n",
       "        vertical-align: top;\n",
       "    }\n",
       "</style>\n",
       "<table border=\"1\" class=\"dataframe\">\n",
       "  <thead>\n",
       "    <tr style=\"text-align: right;\">\n",
       "      <th></th>\n",
       "      <th>Unnamed: 0</th>\n",
       "      <th>session_id</th>\n",
       "      <th>track_id</th>\n",
       "      <th>acousticness</th>\n",
       "      <th>beat_strength</th>\n",
       "      <th>bounciness</th>\n",
       "      <th>danceability</th>\n",
       "      <th>dyn_range_mean</th>\n",
       "      <th>energy</th>\n",
       "      <th>flatness</th>\n",
       "      <th>instrumentalness</th>\n",
       "      <th>key</th>\n",
       "      <th>liveness</th>\n",
       "      <th>loudness</th>\n",
       "      <th>hist_user_behavior_reason_start</th>\n",
       "      <th>hist_user_behavior_reason_end</th>\n",
       "      <th>hist_user_behavior_is_shuffle</th>\n",
       "      <th>pred_hist_user_behavior_reason_start</th>\n",
       "      <th>pred_hist_user_behavior_reason_end</th>\n",
       "      <th>pred_hist_user_behavior_is_shuffle</th>\n",
       "    </tr>\n",
       "  </thead>\n",
       "  <tbody>\n",
       "    <tr>\n",
       "      <th>0</th>\n",
       "      <td>0</td>\n",
       "      <td>0_00006f66-33e5-4de7-a324-2d18e439fc1e</td>\n",
       "      <td>t_0479f24c-27d2-46d6-a00c-7ec928f2b539</td>\n",
       "      <td>0.015848</td>\n",
       "      <td>0.438551</td>\n",
       "      <td>0.473455</td>\n",
       "      <td>0.653119</td>\n",
       "      <td>7.660024</td>\n",
       "      <td>0.553465</td>\n",
       "      <td>1.035007</td>\n",
       "      <td>0.003484</td>\n",
       "      <td>1</td>\n",
       "      <td>0.678553</td>\n",
       "      <td>-6.577</td>\n",
       "      <td>1.0</td>\n",
       "      <td>1.0</td>\n",
       "      <td>1</td>\n",
       "      <td>0.606757</td>\n",
       "      <td>0.571622</td>\n",
       "      <td>0.108108</td>\n",
       "    </tr>\n",
       "    <tr>\n",
       "      <th>1</th>\n",
       "      <td>1</td>\n",
       "      <td>0_00079a23-1600-486a-91bd-5208be0c745a</td>\n",
       "      <td>t_0479f24c-27d2-46d6-a00c-7ec928f2b539</td>\n",
       "      <td>0.015848</td>\n",
       "      <td>0.438551</td>\n",
       "      <td>0.473455</td>\n",
       "      <td>0.653119</td>\n",
       "      <td>7.660024</td>\n",
       "      <td>0.553465</td>\n",
       "      <td>1.035007</td>\n",
       "      <td>0.003484</td>\n",
       "      <td>1</td>\n",
       "      <td>0.678553</td>\n",
       "      <td>-6.577</td>\n",
       "      <td>0.3</td>\n",
       "      <td>0.4</td>\n",
       "      <td>0</td>\n",
       "      <td>0.606757</td>\n",
       "      <td>0.571622</td>\n",
       "      <td>0.108108</td>\n",
       "    </tr>\n",
       "    <tr>\n",
       "      <th>2</th>\n",
       "      <td>2</td>\n",
       "      <td>0_012b0fb4-0cc3-429f-9a78-cc6e622153fb</td>\n",
       "      <td>t_0479f24c-27d2-46d6-a00c-7ec928f2b539</td>\n",
       "      <td>0.015848</td>\n",
       "      <td>0.438551</td>\n",
       "      <td>0.473455</td>\n",
       "      <td>0.653119</td>\n",
       "      <td>7.660024</td>\n",
       "      <td>0.553465</td>\n",
       "      <td>1.035007</td>\n",
       "      <td>0.003484</td>\n",
       "      <td>1</td>\n",
       "      <td>0.678553</td>\n",
       "      <td>-6.577</td>\n",
       "      <td>1.0</td>\n",
       "      <td>1.0</td>\n",
       "      <td>0</td>\n",
       "      <td>0.606757</td>\n",
       "      <td>0.571622</td>\n",
       "      <td>0.108108</td>\n",
       "    </tr>\n",
       "    <tr>\n",
       "      <th>3</th>\n",
       "      <td>3</td>\n",
       "      <td>0_013cc010-c476-4ad2-8972-73449e0b2ef4</td>\n",
       "      <td>t_0479f24c-27d2-46d6-a00c-7ec928f2b539</td>\n",
       "      <td>0.015848</td>\n",
       "      <td>0.438551</td>\n",
       "      <td>0.473455</td>\n",
       "      <td>0.653119</td>\n",
       "      <td>7.660024</td>\n",
       "      <td>0.553465</td>\n",
       "      <td>1.035007</td>\n",
       "      <td>0.003484</td>\n",
       "      <td>1</td>\n",
       "      <td>0.678553</td>\n",
       "      <td>-6.577</td>\n",
       "      <td>0.3</td>\n",
       "      <td>1.0</td>\n",
       "      <td>0</td>\n",
       "      <td>0.606757</td>\n",
       "      <td>0.571622</td>\n",
       "      <td>0.108108</td>\n",
       "    </tr>\n",
       "    <tr>\n",
       "      <th>4</th>\n",
       "      <td>4</td>\n",
       "      <td>0_01a5f0dc-9938-48c9-92f1-c7e51f34d290</td>\n",
       "      <td>t_0479f24c-27d2-46d6-a00c-7ec928f2b539</td>\n",
       "      <td>0.015848</td>\n",
       "      <td>0.438551</td>\n",
       "      <td>0.473455</td>\n",
       "      <td>0.653119</td>\n",
       "      <td>7.660024</td>\n",
       "      <td>0.553465</td>\n",
       "      <td>1.035007</td>\n",
       "      <td>0.003484</td>\n",
       "      <td>1</td>\n",
       "      <td>0.678553</td>\n",
       "      <td>-6.577</td>\n",
       "      <td>1.0</td>\n",
       "      <td>0.3</td>\n",
       "      <td>1</td>\n",
       "      <td>0.606757</td>\n",
       "      <td>0.571622</td>\n",
       "      <td>0.108108</td>\n",
       "    </tr>\n",
       "  </tbody>\n",
       "</table>\n",
       "</div>"
      ],
      "text/plain": [
       "   Unnamed: 0                              session_id  \\\n",
       "0           0  0_00006f66-33e5-4de7-a324-2d18e439fc1e   \n",
       "1           1  0_00079a23-1600-486a-91bd-5208be0c745a   \n",
       "2           2  0_012b0fb4-0cc3-429f-9a78-cc6e622153fb   \n",
       "3           3  0_013cc010-c476-4ad2-8972-73449e0b2ef4   \n",
       "4           4  0_01a5f0dc-9938-48c9-92f1-c7e51f34d290   \n",
       "\n",
       "                                 track_id  acousticness  beat_strength  \\\n",
       "0  t_0479f24c-27d2-46d6-a00c-7ec928f2b539      0.015848       0.438551   \n",
       "1  t_0479f24c-27d2-46d6-a00c-7ec928f2b539      0.015848       0.438551   \n",
       "2  t_0479f24c-27d2-46d6-a00c-7ec928f2b539      0.015848       0.438551   \n",
       "3  t_0479f24c-27d2-46d6-a00c-7ec928f2b539      0.015848       0.438551   \n",
       "4  t_0479f24c-27d2-46d6-a00c-7ec928f2b539      0.015848       0.438551   \n",
       "\n",
       "   bounciness  danceability  dyn_range_mean    energy  flatness  \\\n",
       "0    0.473455      0.653119        7.660024  0.553465  1.035007   \n",
       "1    0.473455      0.653119        7.660024  0.553465  1.035007   \n",
       "2    0.473455      0.653119        7.660024  0.553465  1.035007   \n",
       "3    0.473455      0.653119        7.660024  0.553465  1.035007   \n",
       "4    0.473455      0.653119        7.660024  0.553465  1.035007   \n",
       "\n",
       "   instrumentalness  key  liveness  loudness  hist_user_behavior_reason_start  \\\n",
       "0          0.003484    1  0.678553    -6.577                              1.0   \n",
       "1          0.003484    1  0.678553    -6.577                              0.3   \n",
       "2          0.003484    1  0.678553    -6.577                              1.0   \n",
       "3          0.003484    1  0.678553    -6.577                              0.3   \n",
       "4          0.003484    1  0.678553    -6.577                              1.0   \n",
       "\n",
       "   hist_user_behavior_reason_end  hist_user_behavior_is_shuffle  \\\n",
       "0                            1.0                              1   \n",
       "1                            0.4                              0   \n",
       "2                            1.0                              0   \n",
       "3                            1.0                              0   \n",
       "4                            0.3                              1   \n",
       "\n",
       "   pred_hist_user_behavior_reason_start  pred_hist_user_behavior_reason_end  \\\n",
       "0                              0.606757                            0.571622   \n",
       "1                              0.606757                            0.571622   \n",
       "2                              0.606757                            0.571622   \n",
       "3                              0.606757                            0.571622   \n",
       "4                              0.606757                            0.571622   \n",
       "\n",
       "   pred_hist_user_behavior_is_shuffle  \n",
       "0                            0.108108  \n",
       "1                            0.108108  \n",
       "2                            0.108108  \n",
       "3                            0.108108  \n",
       "4                            0.108108  "
      ]
     },
     "execution_count": 103,
     "metadata": {},
     "output_type": "execute_result"
    }
   ],
   "source": [
    "new_df.head()"
   ]
  },
  {
   "cell_type": "code",
   "execution_count": null,
   "metadata": {},
   "outputs": [],
   "source": []
  },
  {
   "cell_type": "code",
   "execution_count": null,
   "metadata": {
    "collapsed": true
   },
   "outputs": [],
   "source": []
  }
 ],
 "metadata": {
  "kernelspec": {
   "display_name": "Python 3",
   "language": "python",
   "name": "python3"
  },
  "language_info": {
   "codemirror_mode": {
    "name": "ipython",
    "version": 3
   },
   "file_extension": ".py",
   "mimetype": "text/x-python",
   "name": "python",
   "nbconvert_exporter": "python",
   "pygments_lexer": "ipython3",
   "version": "3.6.3"
  }
 },
 "nbformat": 4,
 "nbformat_minor": 2
}
